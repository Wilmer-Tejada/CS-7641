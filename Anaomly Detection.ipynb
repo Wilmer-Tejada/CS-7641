{
 "cells": [
  {
   "cell_type": "code",
   "execution_count": null,
   "metadata": {},
   "outputs": [],
   "source": []
  },
  {
   "cell_type": "code",
   "execution_count": 20,
   "metadata": {},
   "outputs": [],
   "source": [
    "# importing packages\n",
    "import pandas as pd # data processing\n",
    "import numpy as np # working with arrays\n",
    "import matplotlib.pyplot as plt # visualization\n",
    "from termcolor import colored as cl # text customization\n",
    "import itertools # advanced tools\n",
    "import seaborn as sns\n",
    "import time\n",
    "\n",
    "from sklearn.preprocessing import StandardScaler # data normalization\n",
    "from sklearn.model_selection import train_test_split # data split\n",
    "from sklearn.preprocessing import LabelEncoder # label encoding\n",
    "from sklearn.preprocessing import MinMaxScaler\n",
    "from sklearn.model_selection import cross_val_score\n",
    "from sklearn.model_selection import KFold \n",
    "from sklearn.model_selection import learning_curve\n",
    "from sklearn.model_selection import ShuffleSplit\n",
    "from sklearn.decomposition import PCA\n",
    "from sklearn.model_selection import validation_curve\n",
    "\n",
    "from sklearn.tree import DecisionTreeClassifier # Decision tree algorithm\n",
    "from sklearn.neighbors import KNeighborsClassifier # KNN algorithm\n",
    "from sklearn.neural_network import MLPClassifier\n",
    "from sklearn.ensemble import RandomForestClassifier # Random forest tree algorithm\n",
    "from sklearn.ensemble import AdaBoostClassifier\n",
    "from sklearn import svm\n",
    "\n",
    "from sklearn.metrics import confusion_matrix # evaluation metric\n",
    "from sklearn.metrics import accuracy_score # evaluation metric\n",
    "from sklearn.metrics import f1_score # evaluation metric\n",
    "from sklearn.metrics import precision_score # evaluation metric\n",
    "from sklearn.metrics import recall_score # evaluation metric"
   ]
  },
  {
   "cell_type": "code",
   "execution_count": null,
   "metadata": {},
   "outputs": [],
   "source": []
  },
  {
   "cell_type": "code",
   "execution_count": 2,
   "metadata": {},
   "outputs": [
    {
     "data": {
      "text/html": [
       "<div>\n",
       "<style scoped>\n",
       "    .dataframe tbody tr th:only-of-type {\n",
       "        vertical-align: middle;\n",
       "    }\n",
       "\n",
       "    .dataframe tbody tr th {\n",
       "        vertical-align: top;\n",
       "    }\n",
       "\n",
       "    .dataframe thead th {\n",
       "        text-align: right;\n",
       "    }\n",
       "</style>\n",
       "<table border=\"1\" class=\"dataframe\">\n",
       "  <thead>\n",
       "    <tr style=\"text-align: right;\">\n",
       "      <th></th>\n",
       "      <th>Time</th>\n",
       "      <th>CellName</th>\n",
       "      <th>PRBUsageUL</th>\n",
       "      <th>PRBUsageDL</th>\n",
       "      <th>meanThr_DL</th>\n",
       "      <th>meanThr_UL</th>\n",
       "      <th>maxThr_DL</th>\n",
       "      <th>maxThr_UL</th>\n",
       "      <th>meanUE_DL</th>\n",
       "      <th>meanUE_UL</th>\n",
       "      <th>maxUE_DL</th>\n",
       "      <th>maxUE_UL</th>\n",
       "      <th>maxUE_UL+DL</th>\n",
       "      <th>Unusual</th>\n",
       "    </tr>\n",
       "  </thead>\n",
       "  <tbody>\n",
       "    <tr>\n",
       "      <th>0</th>\n",
       "      <td>10:45</td>\n",
       "      <td>3BLTE</td>\n",
       "      <td>11.642</td>\n",
       "      <td>1.393</td>\n",
       "      <td>0.370</td>\n",
       "      <td>0.041</td>\n",
       "      <td>15.655</td>\n",
       "      <td>0.644</td>\n",
       "      <td>1.114</td>\n",
       "      <td>1.025</td>\n",
       "      <td>4.0</td>\n",
       "      <td>3.0</td>\n",
       "      <td>7</td>\n",
       "      <td>1</td>\n",
       "    </tr>\n",
       "    <tr>\n",
       "      <th>1</th>\n",
       "      <td>9:45</td>\n",
       "      <td>1BLTE</td>\n",
       "      <td>21.791</td>\n",
       "      <td>1.891</td>\n",
       "      <td>0.537</td>\n",
       "      <td>0.268</td>\n",
       "      <td>10.273</td>\n",
       "      <td>1.154</td>\n",
       "      <td>1.353</td>\n",
       "      <td>1.085</td>\n",
       "      <td>6.0</td>\n",
       "      <td>4.0</td>\n",
       "      <td>10</td>\n",
       "      <td>1</td>\n",
       "    </tr>\n",
       "    <tr>\n",
       "      <th>2</th>\n",
       "      <td>7:45</td>\n",
       "      <td>9BLTE</td>\n",
       "      <td>0.498</td>\n",
       "      <td>0.398</td>\n",
       "      <td>0.015</td>\n",
       "      <td>0.010</td>\n",
       "      <td>0.262</td>\n",
       "      <td>0.164</td>\n",
       "      <td>0.995</td>\n",
       "      <td>0.995</td>\n",
       "      <td>1.0</td>\n",
       "      <td>1.0</td>\n",
       "      <td>2</td>\n",
       "      <td>1</td>\n",
       "    </tr>\n",
       "    <tr>\n",
       "      <th>3</th>\n",
       "      <td>2:45</td>\n",
       "      <td>4ALTE</td>\n",
       "      <td>1.891</td>\n",
       "      <td>1.095</td>\n",
       "      <td>0.940</td>\n",
       "      <td>0.024</td>\n",
       "      <td>60.715</td>\n",
       "      <td>0.825</td>\n",
       "      <td>1.035</td>\n",
       "      <td>0.995</td>\n",
       "      <td>2.0</td>\n",
       "      <td>2.0</td>\n",
       "      <td>4</td>\n",
       "      <td>1</td>\n",
       "    </tr>\n",
       "    <tr>\n",
       "      <th>4</th>\n",
       "      <td>3:30</td>\n",
       "      <td>10BLTE</td>\n",
       "      <td>0.303</td>\n",
       "      <td>0.404</td>\n",
       "      <td>0.016</td>\n",
       "      <td>0.013</td>\n",
       "      <td>0.348</td>\n",
       "      <td>0.168</td>\n",
       "      <td>1.011</td>\n",
       "      <td>1.011</td>\n",
       "      <td>2.0</td>\n",
       "      <td>1.0</td>\n",
       "      <td>3</td>\n",
       "      <td>0</td>\n",
       "    </tr>\n",
       "  </tbody>\n",
       "</table>\n",
       "</div>"
      ],
      "text/plain": [
       "    Time CellName  PRBUsageUL  PRBUsageDL  meanThr_DL  meanThr_UL  maxThr_DL  \\\n",
       "0  10:45    3BLTE      11.642       1.393       0.370       0.041     15.655   \n",
       "1   9:45    1BLTE      21.791       1.891       0.537       0.268     10.273   \n",
       "2   7:45    9BLTE       0.498       0.398       0.015       0.010      0.262   \n",
       "3   2:45    4ALTE       1.891       1.095       0.940       0.024     60.715   \n",
       "4   3:30   10BLTE       0.303       0.404       0.016       0.013      0.348   \n",
       "\n",
       "   maxThr_UL  meanUE_DL  meanUE_UL  maxUE_DL  maxUE_UL maxUE_UL+DL  Unusual  \n",
       "0      0.644      1.114      1.025       4.0       3.0           7        1  \n",
       "1      1.154      1.353      1.085       6.0       4.0          10        1  \n",
       "2      0.164      0.995      0.995       1.0       1.0           2        1  \n",
       "3      0.825      1.035      0.995       2.0       2.0           4        1  \n",
       "4      0.168      1.011      1.011       2.0       1.0           3        0  "
      ]
     },
     "execution_count": 2,
     "metadata": {},
     "output_type": "execute_result"
    }
   ],
   "source": [
    "df = pd.read_csv(\"data/ML-MATT-CompetitionQT1920_train.csv\",encoding='iso-8859-1')\n",
    "df.head()\n"
   ]
  },
  {
   "cell_type": "code",
   "execution_count": 3,
   "metadata": {},
   "outputs": [
    {
     "data": {
      "text/plain": [
       "(36798, 14)"
      ]
     },
     "execution_count": 3,
     "metadata": {},
     "output_type": "execute_result"
    }
   ],
   "source": [
    "df = df.drop_duplicates()\n",
    "df.shape"
   ]
  },
  {
   "cell_type": "code",
   "execution_count": 4,
   "metadata": {},
   "outputs": [],
   "source": [
    "issue_values = df[df[\"maxUE_UL+DL\"] == '#¡VALOR!']\n",
    "df[\"maxUE_UL+DL\"] = pd.to_numeric(df[\"maxUE_UL+DL\"], errors='coerce')"
   ]
  },
  {
   "cell_type": "markdown",
   "metadata": {},
   "source": [
    "# Distribution of Target Variable"
   ]
  },
  {
   "cell_type": "code",
   "execution_count": 5,
   "metadata": {},
   "outputs": [
    {
     "data": {
      "image/png": "[encoded data removed]",
      "text/plain": [
       "<Figure size 432x288 with 1 Axes>"
      ]
     },
     "metadata": {
      "needs_background": "light"
     },
     "output_type": "display_data"
    }
   ],
   "source": [
    "fig, ax = plt.subplots(figsize=(6,4))\n",
    "sns.countplot(data=df, x=\"Unusual\" )\n",
    "plt.savefig('Unusual_Counts.png')"
   ]
  },
  {
   "cell_type": "markdown",
   "metadata": {},
   "source": [
    "# Correlation Matrix"
   ]
  },
  {
   "cell_type": "code",
   "execution_count": 6,
   "metadata": {},
   "outputs": [
    {
     "data": {
      "image/png": "[encoded data removed]",
      "text/plain": [
       "<Figure size 720x720 with 2 Axes>"
      ]
     },
     "metadata": {
      "needs_background": "light"
     },
     "output_type": "display_data"
    }
   ],
   "source": [
    "\n",
    "def correlation_heatmap(train):\n",
    "    correlations = train.corr()\n",
    "\n",
    "    fig, ax = plt.subplots(figsize=(10,10))\n",
    "    sns.heatmap(correlations, vmax=1.0, center=0, fmt='.2f',\n",
    "                square=True, linewidths=.5, annot=True, cbar_kws={\"shrink\": .70})\n",
    "    \n",
    "    plt.savefig('Corellation_Heatmap.png')\n",
    "    plt.show()\n",
    "    \n",
    "correlation_heatmap(df)"
   ]
  },
  {
   "cell_type": "markdown",
   "metadata": {},
   "source": [
    "# Variable Distributions"
   ]
  },
  {
   "cell_type": "code",
   "execution_count": 7,
   "metadata": {},
   "outputs": [
    {
     "data": {
      "image/png": "[encoded data removed]",
      "text/plain": [
       "<Figure size 432x432 with 12 Axes>"
      ]
     },
     "metadata": {
      "needs_background": "light"
     },
     "output_type": "display_data"
    }
   ],
   "source": [
    "df.hist(bins=30, figsize=(6,6), density=True)\n",
    "plt.savefig('Anomaly/Data_Distribution.png')\n",
    "plt.show()"
   ]
  },
  {
   "cell_type": "markdown",
   "metadata": {},
   "source": [
    "# Is Dataset Balanced?"
   ]
  },
  {
   "cell_type": "code",
   "execution_count": 8,
   "metadata": {},
   "outputs": [
    {
     "name": "stdout",
     "output_type": "stream",
     "text": [
      "\u001b[1mUNUSUAL COUNT\u001b[0m\n",
      "\u001b[1m--------------------------------------------\u001b[0m\n",
      "\u001b[1mTotal number of cases are 36798\u001b[0m\n",
      "\u001b[1mNumber of Normal cases are 26618\u001b[0m\n",
      "\u001b[1mNumber of Unusual cases are 10180\u001b[0m\n",
      "\u001b[1mPercentage of unusual cases is 27.66\u001b[0m\n",
      "\u001b[1m--------------------------------------------\u001b[0m\n"
     ]
    }
   ],
   "source": [
    "# Look to see if this dataset is unbalanced. \n",
    "cases = len(df)\n",
    "normal_count = len(df[df.Unusual== 0])\n",
    "unusual_count = len(df[df.Unusual == 1])\n",
    "unusual_percentage = round(unusual_count/cases*100, 2)\n",
    "\n",
    "print(cl('UNUSUAL COUNT', attrs = ['bold']))\n",
    "print(cl('--------------------------------------------', attrs = ['bold']))\n",
    "print(cl('Total number of cases are {}'.format(cases), attrs = ['bold']))\n",
    "print(cl('Number of Normal cases are {}'.format(normal_count), attrs = ['bold']))\n",
    "print(cl('Number of Unusual cases are {}'.format(unusual_count), attrs = ['bold']))\n",
    "print(cl('Percentage of unusual cases is {}'.format(unusual_percentage), attrs = ['bold']))\n",
    "print(cl('--------------------------------------------', attrs = ['bold']))"
   ]
  },
  {
   "cell_type": "markdown",
   "metadata": {},
   "source": [
    "# Encode Labels"
   ]
  },
  {
   "cell_type": "code",
   "execution_count": 9,
   "metadata": {},
   "outputs": [],
   "source": [
    "# Encode labels to numeric\n",
    "labelencoder = LabelEncoder()\n",
    "df[\"Time\"] = labelencoder.fit_transform(df[\"Time\"])\n",
    "df[\"CellName\"] = labelencoder.fit_transform(df[\"CellName\"])"
   ]
  },
  {
   "cell_type": "markdown",
   "metadata": {},
   "source": [
    "# Impute Missing Values with Median"
   ]
  },
  {
   "cell_type": "code",
   "execution_count": 10,
   "metadata": {},
   "outputs": [],
   "source": [
    "df = df.fillna(df.median())"
   ]
  },
  {
   "cell_type": "code",
   "execution_count": 11,
   "metadata": {},
   "outputs": [],
   "source": [
    "# https://www.askpython.com/python/examples/k-fold-cross-validation"
   ]
  },
  {
   "cell_type": "code",
   "execution_count": 12,
   "metadata": {},
   "outputs": [],
   "source": [
    "X = df.drop('Unusual', axis = 1).values\n",
    "y = df['Unusual'].values\n",
    "\n",
    "X_train, X_test, y_train, y_test = train_test_split(X, y, test_size = 0.2, random_state = 1)"
   ]
  },
  {
   "cell_type": "markdown",
   "metadata": {},
   "source": [
    "# Normalize Data"
   ]
  },
  {
   "cell_type": "code",
   "execution_count": 13,
   "metadata": {},
   "outputs": [],
   "source": [
    "# Normalize dataset after split in order to avoid data leakage. \n",
    "# scaler = StandardScaler()\n",
    "# # scaler = StandardScaler()\n",
    "\n",
    "# X_train = pd.DataFrame(scaler.fit_transform(X_train))\n",
    "# X_test = pd.DataFrame(scaler.transform(X_test))"
   ]
  },
  {
   "cell_type": "code",
   "execution_count": 14,
   "metadata": {},
   "outputs": [],
   "source": [
    "scaler = StandardScaler()\n",
    "X = scaler.fit_transform(X)\n",
    "# X_test = scaler.transform(X_test)\n",
    "\n"
   ]
  },
  {
   "cell_type": "markdown",
   "metadata": {},
   "source": [
    "# Learning Curves"
   ]
  },
  {
   "cell_type": "code",
   "execution_count": 15,
   "metadata": {},
   "outputs": [],
   "source": [
    "#https://www.dataquest.io/blog/learning-curves-machine-learning/"
   ]
  },
  {
   "cell_type": "code",
   "execution_count": 16,
   "metadata": {},
   "outputs": [],
   "source": [
    "def plot_learning_curve(estimator, title, X, y, axes=None, ylim=None, cv=None, scoring = \"accuracy\",\n",
    "                        n_jobs=None, train_sizes=np.linspace(.1, 1.0, 5)):\n",
    "\n",
    "    train_sizes, train_scores, test_scores, fit_times, _ = \\\n",
    "        learning_curve(estimator, X, y, cv=cv, n_jobs=n_jobs, scoring = scoring,\n",
    "                       train_sizes=train_sizes,\n",
    "                       return_times=True)\n",
    "    train_scores_mean = np.mean(train_scores, axis=1)\n",
    "    train_scores_std = np.std(train_scores, axis=1)\n",
    "    test_scores_mean = np.mean(test_scores, axis=1)\n",
    "    test_scores_std = np.std(test_scores, axis=1)\n",
    "    fit_times_mean = np.mean(fit_times, axis=1)\n",
    "    fit_times_std = np.std(fit_times, axis=1)\n",
    "    \n",
    "    # plot scores\n",
    "    plt.plot(train_sizes, train_scores_mean, 'o-', color=\"r\",\n",
    "                 label=\"Training score\")\n",
    "    plt.plot(train_sizes, test_scores_mean, 'o-', color=\"g\",\n",
    "                 label=\"Cross-validation score\")\n",
    "    plt.legend(loc=\"best\")\n",
    "    plt.title(title)\n",
    "\n",
    "    return plt"
   ]
  },
  {
   "cell_type": "code",
   "execution_count": null,
   "metadata": {},
   "outputs": [],
   "source": [
    "#1 DTs\n",
    "title = \"Learning Curves (Decision Tree)\"\n",
    "\n",
    "# model = DecisionTreeClassifier(max_depth = 4, criterion = 'entropy')\n",
    "model = DecisionTreeClassifier(max_depth = 20)\n",
    "plot_learning_curve(model, title, X, y, cv=5)\n",
    "plt.xlabel(\"Training Examples Used\")\n",
    "plt.ylabel(\"Accuracy\")\n",
    "plt.savefig('Anomaly/LR_DecisionTree.png')\n",
    "plt.show()"
   ]
  },
  {
   "cell_type": "code",
   "execution_count": null,
   "metadata": {},
   "outputs": [],
   "source": [
    "# title = \"Learning Curves (Neural Networks)\"\n",
    "\n",
    "# model = MLPClassifier(max_iter = 1000)\n",
    "# plot_learning_curve(model, title, X_train, y_train, cv=5)\n",
    "# plt.xlabel(\"Training Examples Used\")\n",
    "# plt.ylabel(\"Accuracy\")\n",
    "# plt.savefig('Anomaly/LR_NueralNet.png')\n",
    "# plt.show()"
   ]
  },
  {
   "cell_type": "code",
   "execution_count": null,
   "metadata": {},
   "outputs": [],
   "source": [
    "title = \"Learning Curves (AdaBoost)\"\n",
    "\n",
    "model = AdaBoostClassifier(n_estimators=1000, random_state=0)\n",
    "plot_learning_curve(model, title, X_train, y_train, cv=5)\n",
    "plt.xlabel(\"Training Examples Used\")\n",
    "plt.ylabel(\"Accuracy\")\n",
    "plt.savefig('Anomaly/LR_AdaBoost.png')\n",
    "plt.show()"
   ]
  },
  {
   "cell_type": "code",
   "execution_count": null,
   "metadata": {},
   "outputs": [],
   "source": [
    "title = \"Learning Curves (SVM)\"\n",
    "\n",
    "pca = PCA(n_components=3)# adjust yourself\n",
    "pca.fit(X)\n",
    "X_transformed = pca.transform(X)\n",
    "svm_model = svm.SVC(kernel = \"linear\")\n",
    "\n",
    "\n",
    "title = \"Learning Curves (SVM)\"\n",
    "plot_learning_curve(svm_model, title, X_transformed, y, cv=5)\n",
    "# plot_learning_curve(svm_model, title, X_t_train, y_train, cv=5)\n",
    "plt.xlabel(\"Training Examples Used\")\n",
    "plt.ylabel(\"Accuracy\")\n",
    "plt.savefig('Anomaly/LR_SVM.png')\n",
    "plt.show()"
   ]
  },
  {
   "cell_type": "code",
   "execution_count": null,
   "metadata": {},
   "outputs": [],
   "source": [
    "# title = \"Learning Curves (SVM)\"\n",
    "\n",
    "# X_train, X_test, y_train, y_test = train_test_split(X, y, test_size=0.5, random_state=0)\n",
    "\n",
    "# scaler = StandardScaler()\n",
    "# X_train = scaler.fit_transform(X_train)\n",
    "# X_test = scaler.transform(X_test)\n",
    "\n",
    "# pca = PCA(n_components=3)# adjust yourself\n",
    "# pca.fit(X_train)\n",
    "# X_t_train = pca.transform(X_train)\n",
    "# X_t_test = pca.transform(X_test)\n",
    "\n",
    "# # svm_model = svm.SVC(kernel = \"linear\", gamma = .01, C = 10000)\n",
    "# svm_model = svm.SVC(kernel = \"linear\")\n",
    "# # svm_model.fit(X_t_train, y_train)\n",
    "# # svm_yhat = svm_model.predict(X_t_test)\n",
    "# # print(accuracy_score(y_test, svm_yhat))\n",
    "\n",
    "# title = \"Learning Curves (SVM)\"\n",
    "# plot_learning_curve(svm_model, title, X_t_train, y_train, cv=5)\n",
    "# # plot_learning_curve(svm_model, title, X_t_train, y_train, cv=5)\n",
    "# plt.xlabel(\"Training Examples Used\")\n",
    "# plt.ylabel(\"Accuracy\")\n",
    "# plt.savefig('Anomaly/LR_SVM.png')\n",
    "# plt.show()"
   ]
  },
  {
   "cell_type": "code",
   "execution_count": null,
   "metadata": {},
   "outputs": [],
   "source": [
    "title = \"Learning Curves (KNN)\"\n",
    "\n",
    "model = KNeighborsClassifier()\n",
    "plot_learning_curve(model, title, X, y, cv=5)\n",
    "plt.xlabel(\"Training Examples Used\")\n",
    "plt.ylabel(\"Accuracy\")\n",
    "plt.savefig('Anomaly/LR_KNN.png')\n",
    "plt.show()"
   ]
  },
  {
   "cell_type": "markdown",
   "metadata": {},
   "source": [
    "# Validation Curves"
   ]
  },
  {
   "cell_type": "markdown",
   "metadata": {},
   "source": [
    "***"
   ]
  },
  {
   "cell_type": "markdown",
   "metadata": {},
   "source": [
    "#### Decision Trees"
   ]
  },
  {
   "cell_type": "code",
   "execution_count": 17,
   "metadata": {},
   "outputs": [
    {
     "data": {
      "image/png": "[encoded data removed]",
      "text/plain": [
       "<Figure size 432x288 with 1 Axes>"
      ]
     },
     "metadata": {
      "needs_background": "light"
     },
     "output_type": "display_data"
    }
   ],
   "source": [
    "estimator = DecisionTreeClassifier()\n",
    "estimator.get_params().keys()\n",
    "parameter_range = np.arange(1, 20,1)\n",
    " \n",
    "# Calculate accuracy on training and test set using the\n",
    "train_score, test_score = validation_curve(DecisionTreeClassifier(), X, y,\n",
    "                                       param_name = \"max_depth\",\n",
    "                                       param_range = parameter_range,\n",
    "                                       cv = 5, \n",
    "                                       scoring = \"accuracy\")\n",
    " \n",
    "# Calculating mean and standard deviation of training score\n",
    "mean_train_score = np.mean(train_score, axis = 1)\n",
    "std_train_score = np.std(train_score, axis = 1)\n",
    " \n",
    "# Calculating mean and standard deviation of testing score\n",
    "mean_test_score = np.mean(test_score, axis = 1)\n",
    "std_test_score = np.std(test_score, axis = 1)\n",
    " \n",
    "# # Plot mean accuracy scores for training and testing scores\n",
    "plt.plot(parameter_range, mean_train_score,\n",
    "     label = \"Training Score\", color = 'b')\n",
    "plt.plot(parameter_range, mean_test_score,\n",
    "   label = \"Cross Validation Score\", color = 'g')\n",
    " \n",
    "# # Creating the plot\n",
    "plt.title(\"Validation Curve with Decision Tree Classifier\")\n",
    "plt.xlabel(\"Max Tree Depth\")\n",
    "plt.ylabel(\"Accuracy\")\n",
    "plt.tight_layout()\n",
    "plt.legend(loc = 'best')\n",
    "plt.savefig('Anomaly/VC_Decision Trees_H1.png')\n",
    "\n",
    "plt.show()"
   ]
  },
  {
   "cell_type": "code",
   "execution_count": null,
   "metadata": {},
   "outputs": [],
   "source": [
    "parameter_range = np.arange(2, 100,1)\n",
    " \n",
    "# Calculate accuracy on training and test set using the\n",
    "train_score, test_score = validation_curve(DecisionTreeClassifier(), X, y,\n",
    "                                       param_name = \"max_leaf_nodes\",\n",
    "                                       param_range = parameter_range,\n",
    "                                       cv = 5, \n",
    "                                       scoring = \"accuracy\")\n",
    " \n",
    "# Calculating mean and standard deviation of training score\n",
    "mean_train_score = np.mean(train_score, axis = 1)\n",
    "std_train_score = np.std(train_score, axis = 1)\n",
    " \n",
    "# Calculating mean and standard deviation of testing score\n",
    "mean_test_score = np.mean(test_score, axis = 1)\n",
    "std_test_score = np.std(test_score, axis = 1)\n",
    " \n",
    "# # Plot mean accuracy scores for training and testing scores\n",
    "plt.plot(parameter_range, mean_train_score,\n",
    "     label = \"Training Score\", color = 'b')\n",
    "plt.plot(parameter_range, mean_test_score,\n",
    "   label = \"Cross Validation Score\", color = 'g')\n",
    " \n",
    "# # Creating the plot\n",
    "plt.title(\"Validation Curve with Decision Tree Classifier\")\n",
    "plt.xlabel(\"Minimum Samples at Leaf Node\")\n",
    "plt.ylabel(\"Accuracy\")\n",
    "plt.tight_layout()\n",
    "plt.legend(loc = 'best')\n",
    "plt.savefig('Anomaly/VC_Decision Trees_H2.png')\n",
    "\n",
    "plt.show()"
   ]
  },
  {
   "cell_type": "markdown",
   "metadata": {},
   "source": [
    "#### Neural Nets"
   ]
  },
  {
   "cell_type": "code",
   "execution_count": null,
   "metadata": {},
   "outputs": [],
   "source": [
    "estimator = MLPClassifier()\n",
    "# estimator.get_params().keys()\n",
    "parameter_range = [0.0001,0.001,0.01,0.1]\n",
    " \n",
    "# Calculate accuracy on training and test set using the\n",
    "train_score, test_score = validation_curve(estimator, X, y,\n",
    "                                       param_name = \"alpha\",\n",
    "                                       param_range = parameter_range,\n",
    "                                       cv = 5, \n",
    "                                       scoring = \"accuracy\")\n",
    " \n",
    "# Calculating mean and standard deviation of training score\n",
    "mean_train_score = np.mean(train_score, axis = 1)\n",
    "std_train_score = np.std(train_score, axis = 1)\n",
    " \n",
    "# Calculating mean and standard deviation of testing score\n",
    "mean_test_score = np.mean(test_score, axis = 1)\n",
    "std_test_score = np.std(test_score, axis = 1)\n",
    " \n",
    "# # Plot mean accuracy scores for training and testing scores\n",
    "plt.plot(parameter_range, mean_train_score,\n",
    "     label = \"Training Score\", color = 'b')\n",
    "plt.plot(parameter_range, mean_test_score,\n",
    "   label = \"Cross Validation Score\", color = 'g')\n",
    " \n",
    "# # Creating the plot\n",
    "plt.title(\"Validation Curve with Neural Nets (alpha)\")\n",
    "plt.xlabel(\"Alpha\")\n",
    "plt.ylabel(\"Accuracy\")\n",
    "plt.tight_layout()\n",
    "plt.legend(loc = 'best')\n",
    "plt.savefig('Anomaly/VC_NeuralNets_H1.png')\n",
    "\n",
    "plt.show()"
   ]
  },
  {
   "cell_type": "code",
   "execution_count": null,
   "metadata": {},
   "outputs": [],
   "source": [
    "estimator = MLPClassifier()\n",
    "# estimator.get_params().keys()\n",
    "parameter_range = [0.0001,.0005,0.001,.005,0.01,.05]\n",
    " \n",
    "# Calculate accuracy on training and test set using the\n",
    "train_score, test_score = validation_curve(estimator, X, y,\n",
    "                                       param_name = \"learning_rate_init\",\n",
    "                                       param_range = parameter_range,\n",
    "                                       cv = 5, \n",
    "                                       scoring = \"accuracy\")\n",
    " \n",
    "# Calculating mean and standard deviation of training score\n",
    "mean_train_score = np.mean(train_score, axis = 1)\n",
    "std_train_score = np.std(train_score, axis = 1)\n",
    " \n",
    "# Calculating mean and standard deviation of testing score\n",
    "mean_test_score = np.mean(test_score, axis = 1)\n",
    "std_test_score = np.std(test_score, axis = 1)\n",
    " \n",
    "# # Plot mean accuracy scores for training and testing scores\n",
    "plt.plot(parameter_range, mean_train_score,\n",
    "     label = \"Training Score\", color = 'b')\n",
    "plt.plot(parameter_range, mean_test_score,\n",
    "   label = \"Cross Validation Score\", color = 'g')\n",
    " \n",
    "# # Creating the plot\n",
    "plt.title(\"Validation Curve with Neural Nets (Learning Rate)\")\n",
    "plt.xlabel(\"Learning Rate\")\n",
    "plt.ylabel(\"Accuracy\")\n",
    "plt.tight_layout()\n",
    "plt.legend(loc = 'best')\n",
    "plt.savefig('Anomaly/VC_NeuralNets_H2.png')\n",
    "\n",
    "plt.show()"
   ]
  },
  {
   "cell_type": "markdown",
   "metadata": {},
   "source": [
    "#### AdaBoost"
   ]
  },
  {
   "cell_type": "code",
   "execution_count": null,
   "metadata": {},
   "outputs": [],
   "source": [
    "estimator = AdaBoostClassifier()\n",
    "# estimator.get_params().keys()\n",
    "\n",
    "parameter_range = np.arange(1,1000,100)\n",
    " \n",
    "# Calculate accuracy on training and test set using the\n",
    "train_score, test_score = validation_curve(estimator, X, y,\n",
    "                                       param_name = \"n_estimators\",\n",
    "                                       param_range = parameter_range,\n",
    "                                       cv = 5, \n",
    "                                       scoring = \"accuracy\")\n",
    " \n",
    "# Calculating mean and standard deviation of training score\n",
    "mean_train_score = np.mean(train_score, axis = 1)\n",
    "std_train_score = np.std(train_score, axis = 1)\n",
    " \n",
    "# Calculating mean and standard deviation of testing score\n",
    "mean_test_score = np.mean(test_score, axis = 1)\n",
    "std_test_score = np.std(test_score, axis = 1)\n",
    " \n",
    "# # Plot mean accuracy scores for training and testing scores\n",
    "plt.plot(parameter_range, mean_train_score,\n",
    "     label = \"Training Score\", color = 'b')\n",
    "plt.plot(parameter_range, mean_test_score,\n",
    "   label = \"Cross Validation Score\", color = 'g')\n",
    " \n",
    "# # Creating the plot\n",
    "plt.title(\"Validation Curve with AdaBoost\")\n",
    "plt.xlabel(\"Number of Estimators\")\n",
    "plt.ylabel(\"Accuracy\")\n",
    "plt.tight_layout()\n",
    "plt.legend(loc = 'best')\n",
    "plt.savefig('Anomaly/VC_AdaBoost_H1.png')\n",
    "plt.show()"
   ]
  },
  {
   "cell_type": "code",
   "execution_count": null,
   "metadata": {},
   "outputs": [],
   "source": [
    "estimator = AdaBoostClassifier()\n",
    "# estimator.get_params().keys()\n",
    "\n",
    "parameter_range = np.arange(0.1,1,.1)\n",
    " \n",
    "# Calculate accuracy on training and test set using the\n",
    "train_score, test_score = validation_curve(estimator, X, y,\n",
    "                                       param_name = \"learning_rate\",\n",
    "                                       param_range = parameter_range,\n",
    "                                       cv = 5, \n",
    "                                       scoring = \"accuracy\")\n",
    " \n",
    "# Calculating mean and standard deviation of training score\n",
    "mean_train_score = np.mean(train_score, axis = 1)\n",
    "std_train_score = np.std(train_score, axis = 1)\n",
    " \n",
    "# Calculating mean and standard deviation of testing score\n",
    "mean_test_score = np.mean(test_score, axis = 1)\n",
    "std_test_score = np.std(test_score, axis = 1)\n",
    " \n",
    "# # Plot mean accuracy scores for training and testing scores\n",
    "plt.plot(parameter_range, mean_train_score,\n",
    "     label = \"Training Score\", color = 'b')\n",
    "plt.plot(parameter_range, mean_test_score,\n",
    "   label = \"Cross Validation Score\", color = 'g')\n",
    " \n",
    "# # Creating the plot\n",
    "plt.title(\"Validation Curve with AdaBoost (Learning Rate)\")\n",
    "plt.xlabel(\"Learning Rate\")\n",
    "plt.ylabel(\"Accuracy\")\n",
    "plt.tight_layout()\n",
    "plt.legend(loc = 'best')\n",
    "plt.savefig('Anomaly/VC_AdaBoost_H2.png')\n",
    "\n",
    "plt.show()"
   ]
  },
  {
   "cell_type": "markdown",
   "metadata": {},
   "source": [
    "#### SVM"
   ]
  },
  {
   "cell_type": "code",
   "execution_count": null,
   "metadata": {},
   "outputs": [],
   "source": [
    "\n",
    "# scaler = StandardScaler()\n",
    "# X_transformed = scaler.fit_transform(X)\n",
    "# # X_test = scaler.transform(X_test)\n",
    "\n",
    "pca = PCA(n_components=2)# adjust yourself\n",
    "pca.fit(X)\n",
    "X_transformed = pca.transform(X)\n",
    "\n",
    "estimator = svm.SVC()\n",
    "# estimator = svm.SVC()\n",
    "# estimator.get_params().keys()\n",
    "\n",
    "parameter_range = np.linspace(0.1,1,10)\n",
    " \n",
    "# Calculate accuracy on training and test set using the\n",
    "train_score, test_score = validation_curve(estimator, X_transformed, y,\n",
    "                                       param_name = \"C\",\n",
    "                                       param_range = parameter_range,\n",
    "                                       cv = 5, \n",
    "                                       scoring = \"accuracy\")\n",
    " \n",
    "# Calculating mean and standard deviation of training score\n",
    "mean_train_score = np.mean(train_score, axis = 1)\n",
    "std_train_score = np.std(train_score, axis = 1)\n",
    " \n",
    "# Calculating mean and standard deviation of testing score\n",
    "mean_test_score = np.mean(test_score, axis = 1)\n",
    "std_test_score = np.std(test_score, axis = 1)\n",
    " \n",
    "# # Plot mean accuracy scores for training and testing scores\n",
    "plt.plot(parameter_range, mean_train_score,\n",
    "     label = \"Training Score\", color = 'b')\n",
    "plt.plot(parameter_range, mean_test_score,\n",
    "   label = \"Cross Validation Score\", color = 'g')\n",
    " \n",
    "# # Creating the plot\n",
    "plt.title(\"Validation Curve with SVM (C)\")\n",
    "plt.xlabel(\"C\")\n",
    "plt.ylabel(\"Accuracy\")\n",
    "plt.tight_layout()\n",
    "plt.legend(loc = 'best')\n",
    "plt.savefig('Anomaly/VC_SVM_H1.png')\n",
    "\n",
    "plt.show()"
   ]
  },
  {
   "cell_type": "code",
   "execution_count": null,
   "metadata": {},
   "outputs": [],
   "source": [
    "estimator = svm.SVC(kernel = \"linear\")\n",
    "# estimator.get_params().keys()\n",
    "\n",
    "parameter_range = np.linspace(0.1,1,10)\n",
    " \n",
    "# Calculate accuracy on training and test set using the\n",
    "train_score, test_score = validation_curve(estimator, X_transformed, y,\n",
    "                                       param_name = \"gamma\",\n",
    "                                       param_range = parameter_range,\n",
    "                                       cv = 5, \n",
    "                                       scoring = \"accuracy\")\n",
    " \n",
    "# Calculating mean and standard deviation of training score\n",
    "mean_train_score = np.mean(train_score, axis = 1)\n",
    "std_train_score = np.std(train_score, axis = 1)\n",
    " \n",
    "# Calculating mean and standard deviation of testing score\n",
    "mean_test_score = np.mean(test_score, axis = 1)\n",
    "std_test_score = np.std(test_score, axis = 1)\n",
    " \n",
    "# # Plot mean accuracy scores for training and testing scores\n",
    "plt.plot(parameter_range, mean_train_score,\n",
    "     label = \"Training Score\", color = 'b')\n",
    "plt.plot(parameter_range, mean_test_score,\n",
    "   label = \"Cross Validation Score\", color = 'g')\n",
    " \n",
    "# # Creating the plot\n",
    "plt.title(\"Validation Curve with AdaBoost (Learning Rate)\")\n",
    "plt.xlabel(\"Gamma\")\n",
    "plt.ylabel(\"Accuracy\")\n",
    "plt.tight_layout()\n",
    "plt.legend(loc = 'best')\n",
    "plt.savefig('Anomaly/VC_SVM_H2.png')\n",
    "\n",
    "plt.show()"
   ]
  },
  {
   "cell_type": "markdown",
   "metadata": {},
   "source": [
    "#### KNN"
   ]
  },
  {
   "cell_type": "code",
   "execution_count": 18,
   "metadata": {},
   "outputs": [
    {
     "data": {
      "image/png": "[encoded data removed]",
      "text/plain": [
       "<Figure size 432x288 with 1 Axes>"
      ]
     },
     "metadata": {
      "needs_background": "light"
     },
     "output_type": "display_data"
    }
   ],
   "source": [
    "estimator = KNeighborsClassifier(metric = 'euclidean')\n",
    "# estimator.get_params().keys()\n",
    "\n",
    "parameter_range = np.arange(1,10,1)\n",
    " \n",
    "# Calculate accuracy on training and test set using the\n",
    "train_score, test_score = validation_curve(estimator, X, y,\n",
    "                                       param_name = \"n_neighbors\",\n",
    "                                       param_range = parameter_range,\n",
    "                                       cv = 5, \n",
    "                                       scoring = \"accuracy\")\n",
    " \n",
    "# Calculating mean and standard deviation of training score\n",
    "mean_train_score = np.mean(train_score, axis = 1)\n",
    "std_train_score = np.std(train_score, axis = 1)\n",
    " \n",
    "# Calculating mean and standard deviation of testing score\n",
    "mean_test_score = np.mean(test_score, axis = 1)\n",
    "std_test_score = np.std(test_score, axis = 1)\n",
    " \n",
    "# # Plot mean accuracy scores for training and testing scores\n",
    "plt.plot(parameter_range, mean_train_score,\n",
    "     label = \"Training Score\", color = 'b')\n",
    "plt.plot(parameter_range, mean_test_score,\n",
    "   label = \"Cross Validation Score\", color = 'g')\n",
    " \n",
    "# # Creating the plot\n",
    "plt.title(\"Validation Curve with AdaBoost\")\n",
    "plt.xlabel(\"Number of Neighbors\")\n",
    "plt.ylabel(\"Accuracy\")\n",
    "plt.tight_layout()\n",
    "plt.legend(loc = 'best')\n",
    "plt.savefig('Anomaly/VC_KNN_H1.png')\n",
    "plt.show()"
   ]
  },
  {
   "cell_type": "code",
   "execution_count": null,
   "metadata": {},
   "outputs": [],
   "source": [
    "estimator = KNeighborsClassifier(metric = 'manhattan')\n",
    "\n",
    "parameter_range = np.arange(1,10,1)\n",
    " \n",
    "# Calculate accuracy on training and test set using the\n",
    "train_score, test_score = validation_curve(estimator, X, y,\n",
    "                                       param_name = \"n_neighbors\",\n",
    "                                       param_range = parameter_range,\n",
    "                                       cv = 5, \n",
    "                                       scoring = \"accuracy\")\n",
    " \n",
    "# Calculating mean and standard deviation of training score\n",
    "mean_train_score = np.mean(train_score, axis = 1)\n",
    "std_train_score = np.std(train_score, axis = 1)\n",
    " \n",
    "# Calculating mean and standard deviation of testing score\n",
    "mean_test_score = np.mean(test_score, axis = 1)\n",
    "std_test_score = np.std(test_score, axis = 1)\n",
    " \n",
    "# # Plot mean accuracy scores for training and testing scores\n",
    "plt.plot(parameter_range, mean_train_score,\n",
    "     label = \"Training Score\", color = 'b')\n",
    "plt.plot(parameter_range, mean_test_score,\n",
    "   label = \"Cross Validation Score\", color = 'g')\n",
    " \n",
    "# # Creating the plot\n",
    "plt.title(\"Validation Curve with AdaBoost\")\n",
    "plt.xlabel(\"Number of Neighbors\")\n",
    "plt.ylabel(\"Accuracy\")\n",
    "plt.tight_layout()\n",
    "plt.legend(loc = 'best')\n",
    "plt.savefig('Anomaly/VC_KNN_H2.png')\n",
    "plt.show()"
   ]
  },
  {
   "cell_type": "markdown",
   "metadata": {},
   "source": [
    "# Modeling"
   ]
  },
  {
   "cell_type": "code",
   "execution_count": 21,
   "metadata": {},
   "outputs": [
    {
     "name": "stdout",
     "output_type": "stream",
     "text": [
      "Training time:  0.14018988609313965  seconds\n",
      "Query time:  0.002652883529663086  seconds\n",
      "Accuracy:  0.8362771739130435\n"
     ]
    }
   ],
   "source": [
    "X_train, X_test, y_train, y_test = train_test_split(X, y, test_size = 0.2, random_state = 1)\n",
    "\n",
    "# 1. Decision Tree\n",
    "start = time.time()\n",
    "tree_model = DecisionTreeClassifier(max_depth = 4, criterion = 'entropy')\n",
    "tree_model.fit(X_train, y_train)\n",
    "\n",
    "end = time.time()\n",
    "print(\"Training time: \",end - start, \" seconds\")\n",
    "\n",
    "start = time.time()\n",
    "tree_yhat = tree_model.predict(X_test)\n",
    "end = time.time()\n",
    "print(\"Query time: \",end - start, \" seconds\")\n",
    "\n",
    "print(\"Accuracy: \", accuracy_score(y_test, tree_yhat))"
   ]
  },
  {
   "cell_type": "code",
   "execution_count": 24,
   "metadata": {},
   "outputs": [
    {
     "name": "stdout",
     "output_type": "stream",
     "text": [
      "Training time:  20.17875909805298  seconds\n",
      "Query time:  0.003693103790283203  seconds\n",
      "Accuracy:  0.7904891304347826\n"
     ]
    },
    {
     "name": "stderr",
     "output_type": "stream",
     "text": [
      "/Users/wilmertejada/opt/anaconda3/envs/Anomaly_Detection/lib/python3.7/site-packages/sklearn/neural_network/_multilayer_perceptron.py:500: ConvergenceWarning: lbfgs failed to converge (status=1):\n",
      "STOP: TOTAL NO. of ITERATIONS REACHED LIMIT.\n",
      "\n",
      "Increase the number of iterations (max_iter) or scale the data as shown in:\n",
      "    https://scikit-learn.org/stable/modules/preprocessing.html\n",
      "  self.n_iter_ = _check_optimize_result(\"lbfgs\", opt_res, self.max_iter)\n"
     ]
    }
   ],
   "source": [
    "# 2. Neural Networks (Cross-Entropy loss function)(Softmax activation function)\n",
    "start = time.time()\n",
    "nn_model = MLPClassifier(solver='lbfgs', alpha=1e-4,hidden_layer_sizes=(5, 2), random_state=0, max_iter = 1000)\n",
    "nn_model.fit(X, y)\n",
    "\n",
    "end = time.time()\n",
    "print(\"Training time: \",end - start, \" seconds\")\n",
    "\n",
    "start = time.time()\n",
    "nn_yhat = nn_model.predict(X_test)\n",
    "end = time.time()\n",
    "print(\"Query time: \",end - start, \" seconds\")\n",
    "print(\"Accuracy: \", accuracy_score(y_test, nn_yhat))"
   ]
  },
  {
   "cell_type": "code",
   "execution_count": 25,
   "metadata": {},
   "outputs": [
    {
     "name": "stdout",
     "output_type": "stream",
     "text": [
      "Training time:  50.55910396575928  seconds\n",
      "Query time:  1.6680798530578613  seconds\n",
      "Accuracy:  0.9490489130434783\n"
     ]
    }
   ],
   "source": [
    "#3. Boosting (AdaBoost)\n",
    "start = time.time()\n",
    "boost_model = AdaBoostClassifier(n_estimators=1000, random_state=0)\n",
    "boost_model.fit(X_train, y_train)\n",
    "end = time.time()\n",
    "print(\"Training time: \",end - start, \" seconds\")\n",
    "\n",
    "start = time.time()\n",
    "boost_yhat = boost_model.predict(X_test)\n",
    "end = time.time()\n",
    "print(\"Query time: \",end - start, \" seconds\")\n",
    "print(\"Accuracy: \", accuracy_score(y_test, boost_yhat))"
   ]
  },
  {
   "cell_type": "code",
   "execution_count": 26,
   "metadata": {},
   "outputs": [
    {
     "name": "stdout",
     "output_type": "stream",
     "text": [
      "Training time:  16.543434619903564  seconds\n",
      "Query time:  10.300201892852783  seconds\n",
      "0.7236806348171096\n"
     ]
    }
   ],
   "source": [
    "#4. SVM\n",
    "X_train, X_test, y_train, y_test = train_test_split(X, y, test_size=0.5, random_state=0)\n",
    "\n",
    "scaler = StandardScaler()\n",
    "X_train = scaler.fit_transform(X_train)\n",
    "X_test = scaler.transform(X_test)\n",
    "\n",
    "pca = PCA(n_components=3)# adjust yourself\n",
    "pca.fit(X_train)\n",
    "X_t_train = pca.transform(X_train)\n",
    "X_t_test = pca.transform(X_test)\n",
    "\n",
    "# svm_model = svm.SVC(kernel = \"linear\", gamma = .01, C = 10000)\n",
    "svm_model = svm.SVC(kernel = \"linear\")\n",
    "\n",
    "start = time.time()\n",
    "svm_model.fit(X_t_train, y_train)\n",
    "end = time.time()\n",
    "print(\"Training time: \",end - start, \" seconds\")\n",
    "\n",
    "start = time.time()\n",
    "\n",
    "svm_yhat = svm_model.predict(X_t_test)\n",
    "end = time.time()\n",
    "print(\"Query time: \",end - start, \" seconds\")\n",
    "print(accuracy_score(y_test, svm_yhat))\n"
   ]
  },
  {
   "cell_type": "code",
   "execution_count": 27,
   "metadata": {},
   "outputs": [
    {
     "name": "stdout",
     "output_type": "stream",
     "text": [
      "Training time:  0.0367128849029541  seconds\n",
      "Query time:  5.049797296524048  seconds\n",
      "0.740203271916952\n"
     ]
    }
   ],
   "source": [
    "#5. K-Nearest Neighbors\n",
    "\n",
    "n = 5\n",
    "knn = KNeighborsClassifier(n_neighbors = n)\n",
    "start = time.time()\n",
    "knn.fit(X_train, y_train)\n",
    "end = time.time()\n",
    "print(\"Training time: \",end - start, \" seconds\")\n",
    "\n",
    "start = time.time()\n",
    "knn_yhat = knn.predict(X_test)\n",
    "end = time.time()\n",
    "print(\"Query time: \",end - start, \" seconds\")\n",
    "print(accuracy_score(y_test, knn_yhat))"
   ]
  },
  {
   "cell_type": "code",
   "execution_count": null,
   "metadata": {},
   "outputs": [],
   "source": [
    "# Accuracy score\n",
    "\n",
    "# print(cl('ACCURACY SCORE', attrs = ['bold']))\n",
    "# print(cl('--------------------------------------------------', attrs = ['bold']))\n",
    "# print(cl('Decision Tree = {}'.format(accuracy_score(y_test, tree_yhat)), attrs = ['bold']))\n",
    "# print(cl('--------------------------------------------------', attrs = ['bold']))\n",
    "# print(cl('Neural Network = {}'.format(accuracy_score(y_test, nn_yhat)), attrs = ['bold'], color = 'red'))\n",
    "# print(cl('--------------------------------------------------', attrs = ['bold']))\n",
    "# print(cl('AdaBoost = {}'.format(accuracy_score(y_test, boost_yhat)), attrs = ['bold'], color = 'red'))\n",
    "# print(cl('--------------------------------------------------', attrs = ['bold']))\n",
    "# print(cl('SVM = {}'.format(accuracy_score(y_test, svm_yhat)), attrs = ['bold'], color = 'red'))\n",
    "# print(cl('--------------------------------------------------', attrs = ['bold']))\n",
    "# print(cl('KNN = {}'.format(accuracy_score(y_test, knn_yhat)), attrs = ['bold']))\n",
    "# print(cl('--------------------------------------------------', attrs = ['bold']))"
   ]
  },
  {
   "cell_type": "code",
   "execution_count": null,
   "metadata": {},
   "outputs": [],
   "source": [
    "# title = \"Learning Curves (SVM, RBF kernel, $\\gamma=0.001$)\"\n",
    "# # SVC is more expensive so we do a lower number of CV iterations:\n",
    "# cv = ShuffleSplit(n_splits=10, test_size=0.2, random_state=0)\n",
    "# estimator = svm.SVC(gamma=0.001)\n",
    "# plot_learning_curve(estimator, title, X, y, (0.7, 1.01), cv=cv, n_jobs=4)\n",
    "\n",
    "# plt.show()"
   ]
  },
  {
   "cell_type": "code",
   "execution_count": null,
   "metadata": {},
   "outputs": [],
   "source": []
  }
 ],
 "metadata": {
  "kernelspec": {
   "display_name": "Python 3",
   "language": "python",
   "name": "python3"
  },
  "language_info": {
   "codemirror_mode": {
    "name": "ipython",
    "version": 3
   },
   "file_extension": ".py",
   "mimetype": "text/x-python",
   "name": "python",
   "nbconvert_exporter": "python",
   "pygments_lexer": "ipython3",
   "version": "3.7.10"
  }
 },
 "nbformat": 4,
 "nbformat_minor": 4
}
