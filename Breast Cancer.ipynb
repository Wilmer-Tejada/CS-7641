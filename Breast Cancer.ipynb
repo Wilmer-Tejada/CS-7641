{
 "cells": [
  {
   "cell_type": "code",
   "execution_count": 1,
   "metadata": {},
   "outputs": [],
   "source": [
    "# from sklearn import datasets, linear_model\n",
    "# from sklearn.model_selection import cross_val_predict\n",
    "\n",
    "# diabetes = datasets.load_diabetes(as_frame=True)\n",
    "# X_train = diabetes.data[:150]\n",
    "# y_train = diabetes.target[:150]\n",
    "# X_test = diabetes.data[150:]\n",
    "# y_test = diabetes.target[150:]\n",
    "\n",
    "# lasso = linear_model.Lasso()\n",
    "# y_pred = cross_val_predict(lasso, X_train, y_train, cv=3)\n",
    "\n",
    "# print(\"score on test: \" + str(lasso.score(X_test, y_test)))\n",
    "# print(\"score on train: \"+ str(lasso.score(X_train, y_train)))\n"
   ]
  },
  {
   "cell_type": "code",
   "execution_count": null,
   "metadata": {},
   "outputs": [],
   "source": []
  },
  {
   "cell_type": "code",
   "execution_count": 2,
   "metadata": {},
   "outputs": [],
   "source": [
    "# importing packages\n",
    "import pandas as pd # data processing\n",
    "import numpy as np # working with arrays\n",
    "import matplotlib.pyplot as plt # visualization\n",
    "from termcolor import colored as cl # text customization\n",
    "import itertools # advanced tools\n",
    "import seaborn as sns\n",
    "import time\n",
    "\n",
    "from sklearn.preprocessing import StandardScaler # data normalization\n",
    "from sklearn.preprocessing import MinMaxScaler # data normalization\n",
    "from sklearn.model_selection import train_test_split # data split\n",
    "from sklearn.preprocessing import LabelEncoder # label encoding\n",
    "from sklearn.model_selection import cross_val_score\n",
    "from sklearn.model_selection import cross_val_predict\n",
    "from sklearn.model_selection import KFold \n",
    "from sklearn.model_selection import learning_curve\n",
    "from sklearn.model_selection import ShuffleSplit\n",
    "from sklearn.decomposition import PCA\n",
    "from sklearn.model_selection import validation_curve\n",
    "\n",
    "from sklearn.tree import DecisionTreeClassifier # Decision tree algorithm\n",
    "from sklearn.neighbors import KNeighborsClassifier # KNN algorithm\n",
    "from sklearn.neural_network import MLPClassifier\n",
    "from sklearn.ensemble import RandomForestClassifier # Random forest tree algorithm\n",
    "from sklearn.ensemble import AdaBoostClassifier\n",
    "from sklearn import svm\n",
    "\n",
    "from sklearn.metrics import confusion_matrix # evaluation metric\n",
    "from sklearn.metrics import accuracy_score # evaluation metric\n",
    "from sklearn.metrics import f1_score # evaluation metric\n",
    "from sklearn.metrics import precision_score # evaluation metric\n",
    "from sklearn.metrics import recall_score # evaluation metric"
   ]
  },
  {
   "cell_type": "markdown",
   "metadata": {},
   "source": [
    "# Read in Data"
   ]
  },
  {
   "cell_type": "code",
   "execution_count": 3,
   "metadata": {},
   "outputs": [
    {
     "data": {
      "text/html": [
       "<div>\n",
       "<style scoped>\n",
       "    .dataframe tbody tr th:only-of-type {\n",
       "        vertical-align: middle;\n",
       "    }\n",
       "\n",
       "    .dataframe tbody tr th {\n",
       "        vertical-align: top;\n",
       "    }\n",
       "\n",
       "    .dataframe thead th {\n",
       "        text-align: right;\n",
       "    }\n",
       "</style>\n",
       "<table border=\"1\" class=\"dataframe\">\n",
       "  <thead>\n",
       "    <tr style=\"text-align: right;\">\n",
       "      <th></th>\n",
       "      <th>id</th>\n",
       "      <th>diagnosis</th>\n",
       "      <th>radius_mean</th>\n",
       "      <th>texture_mean</th>\n",
       "      <th>perimeter_mean</th>\n",
       "      <th>area_mean</th>\n",
       "      <th>smoothness_mean</th>\n",
       "      <th>compactness_mean</th>\n",
       "      <th>concavity_mean</th>\n",
       "      <th>concave points_mean</th>\n",
       "      <th>...</th>\n",
       "      <th>texture_worst</th>\n",
       "      <th>perimeter_worst</th>\n",
       "      <th>area_worst</th>\n",
       "      <th>smoothness_worst</th>\n",
       "      <th>compactness_worst</th>\n",
       "      <th>concavity_worst</th>\n",
       "      <th>concave points_worst</th>\n",
       "      <th>symmetry_worst</th>\n",
       "      <th>fractal_dimension_worst</th>\n",
       "      <th>Unnamed: 32</th>\n",
       "    </tr>\n",
       "  </thead>\n",
       "  <tbody>\n",
       "    <tr>\n",
       "      <th>0</th>\n",
       "      <td>842302</td>\n",
       "      <td>M</td>\n",
       "      <td>17.99</td>\n",
       "      <td>10.38</td>\n",
       "      <td>122.80</td>\n",
       "      <td>1001.0</td>\n",
       "      <td>0.11840</td>\n",
       "      <td>0.27760</td>\n",
       "      <td>0.3001</td>\n",
       "      <td>0.14710</td>\n",
       "      <td>...</td>\n",
       "      <td>17.33</td>\n",
       "      <td>184.60</td>\n",
       "      <td>2019.0</td>\n",
       "      <td>0.1622</td>\n",
       "      <td>0.6656</td>\n",
       "      <td>0.7119</td>\n",
       "      <td>0.2654</td>\n",
       "      <td>0.4601</td>\n",
       "      <td>0.11890</td>\n",
       "      <td>NaN</td>\n",
       "    </tr>\n",
       "    <tr>\n",
       "      <th>1</th>\n",
       "      <td>842517</td>\n",
       "      <td>M</td>\n",
       "      <td>20.57</td>\n",
       "      <td>17.77</td>\n",
       "      <td>132.90</td>\n",
       "      <td>1326.0</td>\n",
       "      <td>0.08474</td>\n",
       "      <td>0.07864</td>\n",
       "      <td>0.0869</td>\n",
       "      <td>0.07017</td>\n",
       "      <td>...</td>\n",
       "      <td>23.41</td>\n",
       "      <td>158.80</td>\n",
       "      <td>1956.0</td>\n",
       "      <td>0.1238</td>\n",
       "      <td>0.1866</td>\n",
       "      <td>0.2416</td>\n",
       "      <td>0.1860</td>\n",
       "      <td>0.2750</td>\n",
       "      <td>0.08902</td>\n",
       "      <td>NaN</td>\n",
       "    </tr>\n",
       "    <tr>\n",
       "      <th>2</th>\n",
       "      <td>84300903</td>\n",
       "      <td>M</td>\n",
       "      <td>19.69</td>\n",
       "      <td>21.25</td>\n",
       "      <td>130.00</td>\n",
       "      <td>1203.0</td>\n",
       "      <td>0.10960</td>\n",
       "      <td>0.15990</td>\n",
       "      <td>0.1974</td>\n",
       "      <td>0.12790</td>\n",
       "      <td>...</td>\n",
       "      <td>25.53</td>\n",
       "      <td>152.50</td>\n",
       "      <td>1709.0</td>\n",
       "      <td>0.1444</td>\n",
       "      <td>0.4245</td>\n",
       "      <td>0.4504</td>\n",
       "      <td>0.2430</td>\n",
       "      <td>0.3613</td>\n",
       "      <td>0.08758</td>\n",
       "      <td>NaN</td>\n",
       "    </tr>\n",
       "    <tr>\n",
       "      <th>3</th>\n",
       "      <td>84348301</td>\n",
       "      <td>M</td>\n",
       "      <td>11.42</td>\n",
       "      <td>20.38</td>\n",
       "      <td>77.58</td>\n",
       "      <td>386.1</td>\n",
       "      <td>0.14250</td>\n",
       "      <td>0.28390</td>\n",
       "      <td>0.2414</td>\n",
       "      <td>0.10520</td>\n",
       "      <td>...</td>\n",
       "      <td>26.50</td>\n",
       "      <td>98.87</td>\n",
       "      <td>567.7</td>\n",
       "      <td>0.2098</td>\n",
       "      <td>0.8663</td>\n",
       "      <td>0.6869</td>\n",
       "      <td>0.2575</td>\n",
       "      <td>0.6638</td>\n",
       "      <td>0.17300</td>\n",
       "      <td>NaN</td>\n",
       "    </tr>\n",
       "    <tr>\n",
       "      <th>4</th>\n",
       "      <td>84358402</td>\n",
       "      <td>M</td>\n",
       "      <td>20.29</td>\n",
       "      <td>14.34</td>\n",
       "      <td>135.10</td>\n",
       "      <td>1297.0</td>\n",
       "      <td>0.10030</td>\n",
       "      <td>0.13280</td>\n",
       "      <td>0.1980</td>\n",
       "      <td>0.10430</td>\n",
       "      <td>...</td>\n",
       "      <td>16.67</td>\n",
       "      <td>152.20</td>\n",
       "      <td>1575.0</td>\n",
       "      <td>0.1374</td>\n",
       "      <td>0.2050</td>\n",
       "      <td>0.4000</td>\n",
       "      <td>0.1625</td>\n",
       "      <td>0.2364</td>\n",
       "      <td>0.07678</td>\n",
       "      <td>NaN</td>\n",
       "    </tr>\n",
       "  </tbody>\n",
       "</table>\n",
       "<p>5 rows × 33 columns</p>\n",
       "</div>"
      ],
      "text/plain": [
       "         id diagnosis  radius_mean  texture_mean  perimeter_mean  area_mean  \\\n",
       "0    842302         M        17.99         10.38          122.80     1001.0   \n",
       "1    842517         M        20.57         17.77          132.90     1326.0   \n",
       "2  84300903         M        19.69         21.25          130.00     1203.0   \n",
       "3  84348301         M        11.42         20.38           77.58      386.1   \n",
       "4  84358402         M        20.29         14.34          135.10     1297.0   \n",
       "\n",
       "   smoothness_mean  compactness_mean  concavity_mean  concave points_mean  \\\n",
       "0          0.11840           0.27760          0.3001              0.14710   \n",
       "1          0.08474           0.07864          0.0869              0.07017   \n",
       "2          0.10960           0.15990          0.1974              0.12790   \n",
       "3          0.14250           0.28390          0.2414              0.10520   \n",
       "4          0.10030           0.13280          0.1980              0.10430   \n",
       "\n",
       "   ...  texture_worst  perimeter_worst  area_worst  smoothness_worst  \\\n",
       "0  ...          17.33           184.60      2019.0            0.1622   \n",
       "1  ...          23.41           158.80      1956.0            0.1238   \n",
       "2  ...          25.53           152.50      1709.0            0.1444   \n",
       "3  ...          26.50            98.87       567.7            0.2098   \n",
       "4  ...          16.67           152.20      1575.0            0.1374   \n",
       "\n",
       "   compactness_worst  concavity_worst  concave points_worst  symmetry_worst  \\\n",
       "0             0.6656           0.7119                0.2654          0.4601   \n",
       "1             0.1866           0.2416                0.1860          0.2750   \n",
       "2             0.4245           0.4504                0.2430          0.3613   \n",
       "3             0.8663           0.6869                0.2575          0.6638   \n",
       "4             0.2050           0.4000                0.1625          0.2364   \n",
       "\n",
       "   fractal_dimension_worst  Unnamed: 32  \n",
       "0                  0.11890          NaN  \n",
       "1                  0.08902          NaN  \n",
       "2                  0.08758          NaN  \n",
       "3                  0.17300          NaN  \n",
       "4                  0.07678          NaN  \n",
       "\n",
       "[5 rows x 33 columns]"
      ]
     },
     "execution_count": 3,
     "metadata": {},
     "output_type": "execute_result"
    }
   ],
   "source": [
    "df = pd.read_csv(\"data/breast-cancer.csv\")\n",
    "df.head()\n"
   ]
  },
  {
   "cell_type": "markdown",
   "metadata": {},
   "source": [
    "# Drop Unnecessary Column"
   ]
  },
  {
   "cell_type": "code",
   "execution_count": 4,
   "metadata": {},
   "outputs": [],
   "source": [
    "df =df.drop(labels=[\"Unnamed: 32\"],axis=1)\n"
   ]
  },
  {
   "cell_type": "code",
   "execution_count": null,
   "metadata": {},
   "outputs": [],
   "source": []
  },
  {
   "cell_type": "markdown",
   "metadata": {},
   "source": [
    "# Distribution of Target Variable"
   ]
  },
  {
   "cell_type": "code",
   "execution_count": 5,
   "metadata": {},
   "outputs": [
    {
     "data": {
      "image/png": "[encoded data removed]",
      "text/plain": [
       "<Figure size 432x288 with 1 Axes>"
      ]
     },
     "metadata": {
      "needs_background": "light"
     },
     "output_type": "display_data"
    }
   ],
   "source": [
    "fig, ax = plt.subplots(figsize=(6,4))\n",
    "sns.countplot(data=df, x=\"diagnosis\" )\n",
    "plt.savefig('BreastCancerImages/Unusual_Counts.png')"
   ]
  },
  {
   "cell_type": "code",
   "execution_count": 6,
   "metadata": {},
   "outputs": [],
   "source": [
    "df[\"diagnosis\"] = df[\"diagnosis\"].replace(\"M\",1)\n",
    "df[\"diagnosis\"] = df[\"diagnosis\"].replace(\"B\",0)\n"
   ]
  },
  {
   "cell_type": "markdown",
   "metadata": {},
   "source": [
    "# Correlation Matrix"
   ]
  },
  {
   "cell_type": "code",
   "execution_count": 7,
   "metadata": {},
   "outputs": [],
   "source": [
    "\n",
    "# def correlation_heatmap(train):\n",
    "#     correlations = train.corr()\n",
    "\n",
    "#     fig, ax = plt.subplots(figsize=(10,10))\n",
    "#     sns.heatmap(correlations, vmax=1.0, center=0, fmt='.2f',\n",
    "#                 square=True, linewidths=.5, annot=True, cbar_kws={\"shrink\": .70})\n",
    "#     plt.savefig('Breast_Cancer_Corellation_Heatmap.png')\n",
    "    \n",
    "#     plt.show()\n",
    "    \n",
    "# correlation_heatmap(df)"
   ]
  },
  {
   "cell_type": "code",
   "execution_count": null,
   "metadata": {},
   "outputs": [],
   "source": []
  },
  {
   "cell_type": "code",
   "execution_count": 8,
   "metadata": {},
   "outputs": [
    {
     "data": {
      "image/png": "[encoded data removed]",
      "text/plain": [
       "<Figure size 432x432 with 36 Axes>"
      ]
     },
     "metadata": {
      "needs_background": "light"
     },
     "output_type": "display_data"
    }
   ],
   "source": [
    "df.hist(bins=30, figsize=(6,6), density=True)\n",
    "plt.savefig('BreastCancerImages/Data_Distribution.png')\n",
    "plt.show()\n"
   ]
  },
  {
   "cell_type": "markdown",
   "metadata": {},
   "source": [
    "# Is Dataset Balanced?"
   ]
  },
  {
   "cell_type": "code",
   "execution_count": 9,
   "metadata": {},
   "outputs": [
    {
     "name": "stdout",
     "output_type": "stream",
     "text": [
      "\u001b[1mdiagnosis COUNT\u001b[0m\n",
      "\u001b[1m--------------------------------------------\u001b[0m\n",
      "\u001b[1mTotal number of cases are 569\u001b[0m\n",
      "\u001b[1mNumber of Normal cases are 357\u001b[0m\n",
      "\u001b[1mNumber of diagnosis cases are 212\u001b[0m\n",
      "\u001b[1mPercentage of diagnosis cases is 37.26\u001b[0m\n",
      "\u001b[1m--------------------------------------------\u001b[0m\n"
     ]
    }
   ],
   "source": [
    "# Look to see if this dataset is unbalanced. \n",
    "cases = len(df)\n",
    "normal_count = len(df[df.diagnosis == 0])\n",
    "diagnosis_count = len(df[df.diagnosis == 1])\n",
    "diagnosis_percentage = round(diagnosis_count/cases*100, 2)\n",
    "\n",
    "print(cl('diagnosis COUNT', attrs = ['bold']))\n",
    "print(cl('--------------------------------------------', attrs = ['bold']))\n",
    "print(cl('Total number of cases are {}'.format(cases), attrs = ['bold']))\n",
    "print(cl('Number of Normal cases are {}'.format(normal_count), attrs = ['bold']))\n",
    "print(cl('Number of diagnosis cases are {}'.format(diagnosis_count), attrs = ['bold']))\n",
    "print(cl('Percentage of diagnosis cases is {}'.format(diagnosis_percentage), attrs = ['bold']))\n",
    "print(cl('--------------------------------------------', attrs = ['bold']))"
   ]
  },
  {
   "cell_type": "markdown",
   "metadata": {},
   "source": [
    "# Data Split"
   ]
  },
  {
   "cell_type": "code",
   "execution_count": 10,
   "metadata": {},
   "outputs": [],
   "source": [
    "X = df.drop('diagnosis', axis = 1).values\n",
    "y = df['diagnosis'].values\n",
    "\n",
    "# X_train, X_test, y_train, y_test = train_test_split(X, y, test_size = 0.2, random_state = 1)"
   ]
  },
  {
   "cell_type": "code",
   "execution_count": 11,
   "metadata": {},
   "outputs": [],
   "source": [
    "X_train, X_test, y_train, y_test = train_test_split(X, y, test_size = 0.2, random_state = 1)"
   ]
  },
  {
   "cell_type": "markdown",
   "metadata": {},
   "source": []
  },
  {
   "cell_type": "code",
   "execution_count": 12,
   "metadata": {},
   "outputs": [],
   "source": [
    "# Normalize dataset after split in order to avoid data leakage. \n",
    "scaler = StandardScaler()\n",
    "# scaler = StandardScaler()\n",
    "\n",
    "X_train = pd.DataFrame(scaler.fit_transform(X_train))\n",
    "X_test = pd.DataFrame(scaler.transform(X_test))"
   ]
  },
  {
   "cell_type": "code",
   "execution_count": 14,
   "metadata": {},
   "outputs": [],
   "source": [
    "scaler = StandardScaler()\n",
    "X_transformed = scaler.fit_transform(X)\n",
    "# X_test = scaler.transform(X_test)\n",
    "\n"
   ]
  },
  {
   "cell_type": "markdown",
   "metadata": {
    "tags": []
   },
   "source": [
    "# Learning Curves"
   ]
  },
  {
   "cell_type": "code",
   "execution_count": null,
   "metadata": {},
   "outputs": [],
   "source": [
    "def plot_learning_curve(estimator, title, X, y, axes=None, ylim=None, cv=None, scoring = \"accuracy\",\n",
    "                        n_jobs=None, train_sizes=np.linspace(.1, 1.0, 5)):\n",
    "\n",
    "    train_sizes, train_scores, test_scores, fit_times, _ = \\\n",
    "        learning_curve(estimator, X, y, cv=cv, n_jobs=n_jobs, scoring = scoring,\n",
    "                       train_sizes=train_sizes,\n",
    "                       return_times=True)\n",
    "    train_scores_mean = np.mean(train_scores, axis=1)\n",
    "    train_scores_std = np.std(train_scores, axis=1)\n",
    "    test_scores_mean = np.mean(test_scores, axis=1)\n",
    "    test_scores_std = np.std(test_scores, axis=1)\n",
    "    fit_times_mean = np.mean(fit_times, axis=1)\n",
    "    fit_times_std = np.std(fit_times, axis=1)\n",
    "    \n",
    "    # plot scores\n",
    "    plt.plot(train_sizes, train_scores_mean, 'o-', color=\"r\",\n",
    "                 label=\"Training score\")\n",
    "    plt.plot(train_sizes, test_scores_mean, 'o-', color=\"g\",\n",
    "                 label=\"Cross-validation score\")\n",
    "    plt.legend(loc=\"best\")\n",
    "    plt.title(title)\n",
    "\n",
    "    return plt"
   ]
  },
  {
   "cell_type": "code",
   "execution_count": null,
   "metadata": {},
   "outputs": [],
   "source": [
    "#1 DTs\n",
    "title = \"Learning Curves (Decision Tree)\"\n",
    "\n",
    "# model = DecisionTreeClassifier(max_depth = 4, criterion = 'entropy')\n",
    "model = DecisionTreeClassifier(max_depth = 4)\n",
    "plot_learning_curve(model, title, X, y, cv=5)\n",
    "\n",
    "plt.xlabel(\"Training Examples Used\")\n",
    "plt.ylabel(\"Accuracy\")\n",
    "plt.savefig('BreastCancerImages/LR_DecisionTree.png')\n",
    "plt.show()"
   ]
  },
  {
   "cell_type": "code",
   "execution_count": null,
   "metadata": {},
   "outputs": [],
   "source": [
    "title = \"Learning Curves (Neural Networks)\"\n",
    "\n",
    "model = MLPClassifier(max_iter = 1000)\n",
    "plot_learning_curve(model, title, X, y, cv=5)\n",
    "plt.xlabel(\"Training Examples Used\")\n",
    "plt.ylabel(\"Accuracy\")\n",
    "plt.savefig('BreastCancerImages/LR_NeuralNets.png')\n",
    "\n",
    "plt.show()"
   ]
  },
  {
   "cell_type": "code",
   "execution_count": null,
   "metadata": {},
   "outputs": [],
   "source": [
    "title = \"Learning Curves (AdaBoost)\"\n",
    "\n",
    "model = AdaBoostClassifier(n_estimators=100, random_state=0)\n",
    "plot_learning_curve(model, title, X, y, cv=5)\n",
    "plt.xlabel(\"Training Examples Used\")\n",
    "plt.ylabel(\"Accuracy\")\n",
    "plt.savefig('BreastCancerImages/LR_AdaBoost.png')\n",
    "\n",
    "plt.show()"
   ]
  },
  {
   "cell_type": "code",
   "execution_count": null,
   "metadata": {},
   "outputs": [],
   "source": [
    "svm_model = svm.SVC(kernel = \"linear\")\n",
    "\n",
    "\n",
    "title = \"Learning Curves (SVM, RBF kernel, $\\gamma=0.001$)\"\n",
    "plot_learning_curve(svm_model, title, X, y, cv=5)\n",
    "# plot_learning_curve(svm_model, title, X_t_train, y_train, cv=5)\n",
    "plt.xlabel(\"Training Examples Used\")\n",
    "plt.ylabel(\"Accuracy\")\n",
    "plt.show()"
   ]
  },
  {
   "cell_type": "code",
   "execution_count": null,
   "metadata": {},
   "outputs": [],
   "source": [
    "title = \"Learning Curves (KNN)\"\n",
    "\n",
    "model = KNeighborsClassifier(n_neighbors = 3)\n",
    "plot_learning_curve(model, title, X, y, cv=5)\n",
    "plt.xlabel(\"Training Examples Used\")\n",
    "plt.ylabel(\"Accuracy\")\n",
    "plt.show()"
   ]
  },
  {
   "cell_type": "markdown",
   "metadata": {},
   "source": [
    "# Validation Curves"
   ]
  },
  {
   "cell_type": "markdown",
   "metadata": {},
   "source": [
    "***"
   ]
  },
  {
   "cell_type": "markdown",
   "metadata": {},
   "source": [
    "#### Decision Trees"
   ]
  },
  {
   "cell_type": "code",
   "execution_count": null,
   "metadata": {},
   "outputs": [],
   "source": [
    "estimator = DecisionTreeClassifier()\n",
    "estimator.get_params().keys()\n",
    "parameter_range = np.arange(1, 20,1)\n",
    " \n",
    "# Calculate accuracy on training and test set using the\n",
    "train_score, test_score = validation_curve(DecisionTreeClassifier(), X, y,\n",
    "                                       param_name = \"max_depth\",\n",
    "                                       param_range = parameter_range,\n",
    "                                       cv = 5, \n",
    "                                       scoring = \"accuracy\")\n",
    " \n",
    "# Calculating mean and standard deviation of training score\n",
    "mean_train_score = np.mean(train_score, axis = 1)\n",
    "std_train_score = np.std(train_score, axis = 1)\n",
    " \n",
    "# Calculating mean and standard deviation of testing score\n",
    "mean_test_score = np.mean(test_score, axis = 1)\n",
    "std_test_score = np.std(test_score, axis = 1)\n",
    " \n",
    "# # Plot mean accuracy scores for training and testing scores\n",
    "plt.plot(parameter_range, mean_train_score,\n",
    "     label = \"Training Score\", color = 'b')\n",
    "plt.plot(parameter_range, mean_test_score,\n",
    "   label = \"Cross Validation Score\", color = 'g')\n",
    " \n",
    "# # Creating the plot\n",
    "plt.title(\"Validation Curve with Decision Tree Classifier\")\n",
    "plt.xlabel(\"Max Tree Depth\")\n",
    "plt.ylabel(\"Accuracy\")\n",
    "plt.tight_layout()\n",
    "plt.legend(loc = 'best')\n",
    "plt.savefig('BreastCancerImages/VC_Decision Trees_H1.png')\n",
    "\n",
    "plt.show()"
   ]
  },
  {
   "cell_type": "code",
   "execution_count": null,
   "metadata": {},
   "outputs": [],
   "source": [
    "parameter_range = np.arange(2, 100,1)\n",
    " \n",
    "# Calculate accuracy on training and test set using the\n",
    "train_score, test_score = validation_curve(DecisionTreeClassifier(), X, y,\n",
    "                                       param_name = \"max_leaf_nodes\",\n",
    "                                       param_range = parameter_range,\n",
    "                                       cv = 5, \n",
    "                                       scoring = \"accuracy\")\n",
    " \n",
    "# Calculating mean and standard deviation of training score\n",
    "mean_train_score = np.mean(train_score, axis = 1)\n",
    "std_train_score = np.std(train_score, axis = 1)\n",
    " \n",
    "# Calculating mean and standard deviation of testing score\n",
    "mean_test_score = np.mean(test_score, axis = 1)\n",
    "std_test_score = np.std(test_score, axis = 1)\n",
    " \n",
    "# # Plot mean accuracy scores for training and testing scores\n",
    "plt.plot(parameter_range, mean_train_score,\n",
    "     label = \"Training Score\", color = 'b')\n",
    "plt.plot(parameter_range, mean_test_score,\n",
    "   label = \"Cross Validation Score\", color = 'g')\n",
    " \n",
    "# # Creating the plot\n",
    "plt.title(\"Validation Curve with Decision Tree Classifier\")\n",
    "plt.xlabel(\"Minimum Samples at Leaf Node\")\n",
    "plt.ylabel(\"Accuracy\")\n",
    "plt.tight_layout()\n",
    "plt.legend(loc = 'best')\n",
    "plt.savefig('BreastCancerImages/VC_Decision Trees_H2.png')\n",
    "\n",
    "plt.show()"
   ]
  },
  {
   "cell_type": "markdown",
   "metadata": {},
   "source": [
    "#### Neural Nets"
   ]
  },
  {
   "cell_type": "code",
   "execution_count": null,
   "metadata": {},
   "outputs": [],
   "source": [
    "estimator = MLPClassifier(max_iter = 500)\n",
    "# estimator.get_params().keys()\n",
    "parameter_range = [0.0001,0.001,0.01,0.1]\n",
    " \n",
    "# Calculate accuracy on training and test set using the\n",
    "train_score, test_score = validation_curve(estimator, X, y,\n",
    "                                       param_name = \"alpha\",\n",
    "                                       param_range = parameter_range,\n",
    "                                       cv = 5, \n",
    "                                       scoring = \"accuracy\")\n",
    " \n",
    "# Calculating mean and standard deviation of training score\n",
    "mean_train_score = np.mean(train_score, axis = 1)\n",
    "std_train_score = np.std(train_score, axis = 1)\n",
    " \n",
    "# Calculating mean and standard deviation of testing score\n",
    "mean_test_score = np.mean(test_score, axis = 1)\n",
    "std_test_score = np.std(test_score, axis = 1)\n",
    " \n",
    "# # Plot mean accuracy scores for training and testing scores\n",
    "plt.plot(parameter_range, mean_train_score,\n",
    "     label = \"Training Score\", color = 'b')\n",
    "plt.plot(parameter_range, mean_test_score,\n",
    "   label = \"Cross Validation Score\", color = 'g')\n",
    " \n",
    "# # Creating the plot\n",
    "plt.title(\"Validation Curve with Neural Nets (alpha)\")\n",
    "plt.xlabel(\"Alpha\")\n",
    "plt.ylabel(\"Accuracy\")\n",
    "plt.tight_layout()\n",
    "plt.legend(loc = 'best')\n",
    "plt.savefig('BreastCancerImages/VC_NeuralNets_H1.png')\n",
    "\n",
    "plt.show()"
   ]
  },
  {
   "cell_type": "code",
   "execution_count": null,
   "metadata": {},
   "outputs": [],
   "source": [
    "estimator = MLPClassifier(max_iter = 1000)\n",
    "# estimator.get_params().keys()\n",
    "parameter_range = [0.0001,.0005,0.001,.005,0.01,.05]\n",
    " \n",
    "# Calculate accuracy on training and test set using the\n",
    "train_score, test_score = validation_curve(estimator, X, y,\n",
    "                                       param_name = \"learning_rate_init\",\n",
    "                                       param_range = parameter_range,\n",
    "                                       cv = 5, \n",
    "                                       scoring = \"accuracy\")\n",
    " \n",
    "# Calculating mean and standard deviation of training score\n",
    "mean_train_score = np.mean(train_score, axis = 1)\n",
    "std_train_score = np.std(train_score, axis = 1)\n",
    " \n",
    "# Calculating mean and standard deviation of testing score\n",
    "mean_test_score = np.mean(test_score, axis = 1)\n",
    "std_test_score = np.std(test_score, axis = 1)\n",
    " \n",
    "# # Plot mean accuracy scores for training and testing scores\n",
    "plt.plot(parameter_range, mean_train_score,\n",
    "     label = \"Training Score\", color = 'b')\n",
    "plt.plot(parameter_range, mean_test_score,\n",
    "   label = \"Cross Validation Score\", color = 'g')\n",
    " \n",
    "# # Creating the plot\n",
    "plt.title(\"Validation Curve with Neural Nets (Learning Rate)\")\n",
    "plt.xlabel(\"Learning Rate\")\n",
    "plt.ylabel(\"Accuracy\")\n",
    "plt.tight_layout()\n",
    "plt.legend(loc = 'best')\n",
    "plt.savefig('BreastCancerImages/VC_NeuralNets_H2.png')\n",
    "\n",
    "plt.show()"
   ]
  },
  {
   "cell_type": "markdown",
   "metadata": {},
   "source": [
    "#### AdaBoost"
   ]
  },
  {
   "cell_type": "code",
   "execution_count": null,
   "metadata": {},
   "outputs": [],
   "source": [
    "estimator = AdaBoostClassifier()\n",
    "# estimator.get_params().keys()\n",
    "\n",
    "parameter_range = np.arange(1,150,15)\n",
    " \n",
    "# Calculate accuracy on training and test set using the\n",
    "train_score, test_score = validation_curve(estimator, X, y,\n",
    "                                       param_name = \"n_estimators\",\n",
    "                                       param_range = parameter_range,\n",
    "                                       cv = 5, \n",
    "                                       scoring = \"accuracy\")\n",
    " \n",
    "# Calculating mean and standard deviation of training score\n",
    "mean_train_score = np.mean(train_score, axis = 1)\n",
    "std_train_score = np.std(train_score, axis = 1)\n",
    " \n",
    "# Calculating mean and standard deviation of testing score\n",
    "mean_test_score = np.mean(test_score, axis = 1)\n",
    "std_test_score = np.std(test_score, axis = 1)\n",
    " \n",
    "# # Plot mean accuracy scores for training and testing scores\n",
    "plt.plot(parameter_range, mean_train_score,\n",
    "     label = \"Training Score\", color = 'b')\n",
    "plt.plot(parameter_range, mean_test_score,\n",
    "   label = \"Cross Validation Score\", color = 'g')\n",
    " \n",
    "# # Creating the plot\n",
    "plt.title(\"Validation Curve with AdaBoost (# of Learners)\")\n",
    "plt.xlabel(\"Number of Weak Learners\")\n",
    "plt.ylabel(\"Accuracy\")\n",
    "plt.tight_layout()\n",
    "plt.legend(loc = 'best')\n",
    "plt.savefig('BreastCancerImages/VC_AdaBoost_H1.png')\n",
    "\n",
    "plt.show()"
   ]
  },
  {
   "cell_type": "code",
   "execution_count": null,
   "metadata": {},
   "outputs": [],
   "source": [
    "estimator = AdaBoostClassifier()\n",
    "# estimator.get_params().keys()\n",
    "\n",
    "parameter_range = np.arange(0.1,1,.1)\n",
    " \n",
    "# Calculate accuracy on training and test set using the\n",
    "train_score, test_score = validation_curve(estimator, X, y,\n",
    "                                       param_name = \"learning_rate\",\n",
    "                                       param_range = parameter_range,\n",
    "                                       cv = 5, \n",
    "                                       scoring = \"accuracy\")\n",
    " \n",
    "# Calculating mean and standard deviation of training score\n",
    "mean_train_score = np.mean(train_score, axis = 1)\n",
    "std_train_score = np.std(train_score, axis = 1)\n",
    " \n",
    "# Calculating mean and standard deviation of testing score\n",
    "mean_test_score = np.mean(test_score, axis = 1)\n",
    "std_test_score = np.std(test_score, axis = 1)\n",
    " \n",
    "# # Plot mean accuracy scores for training and testing scores\n",
    "plt.plot(parameter_range, mean_train_score,\n",
    "     label = \"Training Score\", color = 'b')\n",
    "plt.plot(parameter_range, mean_test_score,\n",
    "   label = \"Cross Validation Score\", color = 'g')\n",
    " \n",
    "# # Creating the plot\n",
    "plt.title(\"Validation Curve with AdaBoost (Learning Rate)\")\n",
    "plt.xlabel(\"Learning Rate\")\n",
    "plt.ylabel(\"Accuracy\")\n",
    "plt.tight_layout()\n",
    "plt.legend(loc = 'best')\n",
    "plt.savefig('BreastCancerImages/VC_AdaBoost_H2.png')\n",
    "\n",
    "plt.show()"
   ]
  },
  {
   "cell_type": "markdown",
   "metadata": {},
   "source": [
    "#### SVM"
   ]
  },
  {
   "cell_type": "code",
   "execution_count": null,
   "metadata": {},
   "outputs": [],
   "source": []
  },
  {
   "cell_type": "code",
   "execution_count": null,
   "metadata": {},
   "outputs": [],
   "source": [
    "# scaler = StandardScaler()\n",
    "# X_transformed = scaler.fit_transform(X)\n",
    "# # X_test = scaler.transform(X_test)\n",
    "\n",
    "# pca = PCA(n_components=3)# adjust yourself\n",
    "# pca.fit(X_transformed)\n",
    "# X_transformed = pca.transform(X_transformed)\n",
    "\n",
    "# estimator = svm.SVC(kernel = \"linear\")\n",
    "estimator = svm.SVC()\n",
    "# estimator.get_params().keys()\n",
    "\n",
    "parameter_range = np.linspace(0.1,1,10)\n",
    " \n",
    "# Calculate accuracy on training and test set using the\n",
    "train_score, test_score = validation_curve(estimator, X, y,\n",
    "                                       param_name = \"C\",\n",
    "                                       param_range = parameter_range,\n",
    "                                       cv = 5, \n",
    "                                       scoring = \"accuracy\")\n",
    " \n",
    "# Calculating mean and standard deviation of training score\n",
    "mean_train_score = np.mean(train_score, axis = 1)\n",
    "std_train_score = np.std(train_score, axis = 1)\n",
    " \n",
    "# Calculating mean and standard deviation of testing score\n",
    "mean_test_score = np.mean(test_score, axis = 1)\n",
    "std_test_score = np.std(test_score, axis = 1)\n",
    " \n",
    "# # Plot mean accuracy scores for training and testing scores\n",
    "plt.plot(parameter_range, mean_train_score,\n",
    "     label = \"Training Score\", color = 'b')\n",
    "plt.plot(parameter_range, mean_test_score,\n",
    "   label = \"Cross Validation Score\", color = 'g')\n",
    " \n",
    "# # Creating the plot\n",
    "plt.title(\"Validation Curve with SVM (C)\")\n",
    "plt.xlabel(\"C\")\n",
    "plt.ylabel(\"Accuracy\")\n",
    "plt.tight_layout()\n",
    "plt.legend(loc = 'best')\n",
    "plt.savefig('BreastCancerImages/VC_SVM_H1.png')\n",
    "\n",
    "plt.show()"
   ]
  },
  {
   "cell_type": "code",
   "execution_count": null,
   "metadata": {},
   "outputs": [],
   "source": [
    "\n",
    "# scaler = StandardScaler()\n",
    "# X_transformed = scaler.fit_transform(X)\n",
    "# # X_test = scaler.transform(X_test)\n",
    "\n",
    "# pca = PCA(n_components=3)# adjust yourself\n",
    "# pca.fit(X_transformed)\n",
    "# X_transformed = pca.transform(X_transformed)\n",
    "\n",
    "# estimator = svm.SVC(kernel = \"linear\")\n",
    "estimator = svm.SVC()\n",
    "# # estimator.get_params().keys()\n",
    "\n",
    "# parameter_range = np.linspace(0.1,1,10)\n",
    " \n",
    "# Calculate accuracy on training and test set using the\n",
    "train_score, test_score = validation_curve(estimator, X, y,\n",
    "                                       param_name = \"gamma\",\n",
    "                                       param_range = parameter_range,\n",
    "                                       cv = 5, \n",
    "                                       scoring = \"accuracy\")\n",
    " \n",
    "# Calculating mean and standard deviation of training score\n",
    "mean_train_score = np.mean(train_score, axis = 1)\n",
    "std_train_score = np.std(train_score, axis = 1)\n",
    " \n",
    "# Calculating mean and standard deviation of testing score\n",
    "mean_test_score = np.mean(test_score, axis = 1)\n",
    "std_test_score = np.std(test_score, axis = 1)\n",
    " \n",
    "# # Plot mean accuracy scores for training and testing scores\n",
    "plt.plot(parameter_range, mean_train_score,\n",
    "     label = \"Training Score\", color = 'b')\n",
    "plt.plot(parameter_range, mean_test_score,\n",
    "   label = \"Cross Validation Score\", color = 'g')\n",
    " \n",
    "# # Creating the plot\n",
    "plt.title(\"Validation Curve with SVM (Gamma)\")\n",
    "plt.xlabel(\"Gamma\")\n",
    "plt.ylabel(\"Accuracy\")\n",
    "plt.tight_layout()\n",
    "plt.legend(loc = 'best')\n",
    "plt.savefig('BreastCancerImages/VC_SVM_H2.png')\n",
    "\n",
    "plt.show()"
   ]
  },
  {
   "cell_type": "markdown",
   "metadata": {},
   "source": [
    "#### KNN"
   ]
  },
  {
   "cell_type": "code",
   "execution_count": null,
   "metadata": {},
   "outputs": [],
   "source": [
    "\n",
    "\n",
    "estimator = KNeighborsClassifier(metric = 'euclidean')\n",
    "# estimator.get_params().keys()\n",
    "\n",
    "parameter_range = np.arange(1,20,1)\n",
    " \n",
    "# Calculate accuracy on training and test set using the\n",
    "train_score, test_score = validation_curve(estimator, X_transformed, y,\n",
    "                                       param_name = \"n_neighbors\",\n",
    "                                       param_range = parameter_range,\n",
    "                                       cv = 5, \n",
    "                                       scoring = \"accuracy\")\n",
    " \n",
    "# Calculating mean and standard deviation of training score\n",
    "mean_train_score = np.mean(train_score, axis = 1)\n",
    "std_train_score = np.std(train_score, axis = 1)\n",
    " \n",
    "# Calculating mean and standard deviation of testing score\n",
    "mean_test_score = np.mean(test_score, axis = 1)\n",
    "std_test_score = np.std(test_score, axis = 1)\n",
    " \n",
    "# # Plot mean accuracy scores for training and testing scores\n",
    "plt.plot(parameter_range, mean_train_score,\n",
    "     label = \"Training Score\", color = 'b')\n",
    "plt.plot(parameter_range, mean_test_score,\n",
    "   label = \"Cross Validation Score\", color = 'g')\n",
    " \n",
    "# # Creating the plot\n",
    "plt.title(\"Validation Curve with KNN\")\n",
    "plt.xlabel(\"Number of Neighbors\")\n",
    "plt.ylabel(\"Accuracy\")\n",
    "plt.tight_layout()\n",
    "plt.legend(loc = 'best')\n",
    "plt.savefig('BreastCancerImages/VC_KNN_H1.png')\n",
    "\n",
    "plt.show()"
   ]
  },
  {
   "cell_type": "code",
   "execution_count": null,
   "metadata": {},
   "outputs": [],
   "source": [
    "\n",
    "\n",
    "estimator = KNeighborsClassifier(metric = 'manhattan')\n",
    "# estimator.get_params().keys()\n",
    "\n",
    "parameter_range = np.arange(1,20,1)\n",
    " \n",
    "# Calculate accuracy on training and test set using the\n",
    "train_score, test_score = validation_curve(estimator, X_transformed, y,\n",
    "                                       param_name = \"n_neighbors\",\n",
    "                                       param_range = parameter_range,\n",
    "                                       cv = 5, \n",
    "                                       scoring = \"accuracy\")\n",
    " \n",
    "# Calculating mean and standard deviation of training score\n",
    "mean_train_score = np.mean(train_score, axis = 1)\n",
    "std_train_score = np.std(train_score, axis = 1)\n",
    " \n",
    "# Calculating mean and standard deviation of testing score\n",
    "mean_test_score = np.mean(test_score, axis = 1)\n",
    "std_test_score = np.std(test_score, axis = 1)\n",
    " \n",
    "# # Plot mean accuracy scores for training and testing scores\n",
    "plt.plot(parameter_range, mean_train_score,\n",
    "     label = \"Training Score\", color = 'b')\n",
    "plt.plot(parameter_range, mean_test_score,\n",
    "   label = \"Cross Validation Score\", color = 'g')\n",
    " \n",
    "# # Creating the plot\n",
    "plt.title(\"Validation Curve with KNN\")\n",
    "plt.xlabel(\"Number of Neighbors\")\n",
    "plt.ylabel(\"Accuracy\")\n",
    "plt.tight_layout()\n",
    "plt.legend(loc = 'best')\n",
    "plt.savefig('BreastCancerImages/VC_KNN_H2.png')\n",
    "\n",
    "plt.show()"
   ]
  },
  {
   "cell_type": "markdown",
   "metadata": {},
   "source": [
    "# Loss Curves"
   ]
  },
  {
   "cell_type": "code",
   "execution_count": 24,
   "metadata": {},
   "outputs": [
    {
     "name": "stderr",
     "output_type": "stream",
     "text": [
      "/Users/wilmertejada/opt/anaconda3/envs/Anomaly_Detection/lib/python3.7/site-packages/sklearn/neural_network/_multilayer_perceptron.py:617: ConvergenceWarning: Stochastic Optimizer: Maximum iterations (1000) reached and the optimization hasn't converged yet.\n",
      "  % self.max_iter, ConvergenceWarning)\n"
     ]
    },
    {
     "data": {
      "image/png": "[encoded data removed]",
      "text/plain": [
       "<Figure size 432x288 with 1 Axes>"
      ]
     },
     "metadata": {
      "needs_background": "light"
     },
     "output_type": "display_data"
    }
   ],
   "source": [
    "num_epochs = 1000\n",
    "train_loss = np.empty(num_epochs)\n",
    "train_scores = np.empty(num_epochs)\n",
    "val_scores = np.empty(num_epochs)\n",
    "\n",
    "nn = MLPClassifier(hidden_layer_sizes=(5, 2), random_state=7, max_iter=1000, warm_start=True)\n",
    "X_train_loss, X_test_loss, y_train_loss, y_test_loss = train_test_split(X_train, y_train, test_size=0.2, random_state=18)\n",
    "for i in range(num_epochs):\n",
    "    nn.fit(X_train_loss, y_train_loss)\n",
    "    train_loss[i] = nn.loss_\n",
    "    train_scores[i] = accuracy_score(y_train_loss, nn.predict(X_train_loss))\n",
    "    val_scores[i] = accuracy_score(y_test_loss, nn.predict(X_test_loss))\n",
    "    \n",
    "xrange = np.arange(num_epochs) + 1\n",
    "plt.figure()\n",
    "plt.plot(xrange, train_loss)\n",
    "plt.title('Loss curve (Neural Networks')\n",
    "plt.xlabel('Epochs')\n",
    "plt.ylabel(\"Loss\")\n",
    "plt.grid()\n",
    "\n",
    "plt.savefig('BreastCancerImages/nn_train_loss.png')\n",
    "plt.show()"
   ]
  },
  {
   "cell_type": "code",
   "execution_count": null,
   "metadata": {},
   "outputs": [],
   "source": [
    "num_epochs = 1000\n",
    "train_loss = np.empty(num_epochs)\n",
    "train_scores = np.empty(num_epochs)\n",
    "val_scores = np.empty(num_epochs)\n",
    "\n",
    "nn = svm.SVC()\n",
    "X_train_loss, X_test_loss, y_train_loss, y_test_loss = train_test_split(X_train, y_train, test_size=0.2, random_state=18)\n",
    "for i in range(num_epochs):\n",
    "    nn.fit(X_train_loss, y_train_loss)\n",
    "    train_loss[i] = nn.loss_\n",
    "    train_scores[i] = accuracy_score(y_train_loss, nn.predict(X_train1))\n",
    "    val_scores[i] = accuracy_score(y_val, nn.predict(X_val))\n",
    "    \n",
    "xrange = np.arange(num_epochs) + 1\n",
    "plt.figure()\n",
    "plt.plot(xrange, train_loss)\n",
    "plt.title('Loss curve (Neural Networks')\n",
    "plt.xlabel('Epochs')\n",
    "plt.ylabel(\"Loss\")\n",
    "plt.grid()\n",
    "#plt.savefig(fig_path + 'nn_train_loss.png')\n",
    "plt.show()"
   ]
  },
  {
   "cell_type": "markdown",
   "metadata": {},
   "source": [
    "# Modeling"
   ]
  },
  {
   "cell_type": "code",
   "execution_count": 18,
   "metadata": {},
   "outputs": [
    {
     "name": "stdout",
     "output_type": "stream",
     "text": [
      "Training time:  0.0018868446350097656  seconds\n",
      "Query time:  0.0005939006805419922  seconds\n",
      "Accuracy:  0.9035087719298246\n"
     ]
    }
   ],
   "source": [
    "X_train, X_test, y_train, y_test = train_test_split(X, y, test_size = 0.2, random_state = 1)\n",
    "\n",
    "# 1. Decision Tree\n",
    "start = time.time()\n",
    "tree_model = DecisionTreeClassifier(max_depth = 4, criterion = 'entropy')\n",
    "tree_model.fit(X_train, y_train)\n",
    "\n",
    "end = time.time()\n",
    "print(\"Training time: \",end - start, \" seconds\")\n",
    "\n",
    "start = time.time()\n",
    "tree_yhat = tree_model.predict(X_test)\n",
    "end = time.time()\n",
    "print(\"Query time: \",end - start, \" seconds\")\n",
    "\n",
    "print(\"Accuracy: \", accuracy_score(y_test, tree_yhat))\n"
   ]
  },
  {
   "cell_type": "code",
   "execution_count": 19,
   "metadata": {},
   "outputs": [
    {
     "name": "stdout",
     "output_type": "stream",
     "text": [
      "Training time:  0.18123912811279297  seconds\n",
      "Query time:  0.0009789466857910156  seconds\n",
      "Accuracy:  0.9649122807017544\n"
     ]
    }
   ],
   "source": [
    "# 2. Neural Networks (Cross-Entropy loss function)(Softmax activation function)\n",
    "start = time.time()\n",
    "nn_model = MLPClassifier(solver='lbfgs', alpha=1e-4,hidden_layer_sizes=(5, 2), random_state=0, max_iter = 1000)\n",
    "nn_model.fit(X, y)\n",
    "\n",
    "end = time.time()\n",
    "print(\"Training time: \",end - start, \" seconds\")\n",
    "\n",
    "start = time.time()\n",
    "nn_yhat = nn_model.predict(X_test)\n",
    "end = time.time()\n",
    "print(\"Query time: \",end - start, \" seconds\")\n",
    "print(\"Accuracy: \", accuracy_score(y_test, nn_yhat))"
   ]
  },
  {
   "cell_type": "code",
   "execution_count": 20,
   "metadata": {},
   "outputs": [
    {
     "name": "stdout",
     "output_type": "stream",
     "text": [
      "Training time:  0.3071098327636719  seconds\n",
      "Query time:  0.03620505332946777  seconds\n",
      "Accuracy:  0.9473684210526315\n"
     ]
    }
   ],
   "source": [
    "#3. Boosting (AdaBoost)\n",
    "start = time.time()\n",
    "boost_model = AdaBoostClassifier(n_estimators=100, random_state=0)\n",
    "boost_model.fit(X_train, y_train)\n",
    "end = time.time()\n",
    "print(\"Training time: \",end - start, \" seconds\")\n",
    "\n",
    "start = time.time()\n",
    "boost_yhat = boost_model.predict(X_test)\n",
    "end = time.time()\n",
    "print(\"Query time: \",end - start, \" seconds\")\n",
    "print(\"Accuracy: \", accuracy_score(y_test, boost_yhat))"
   ]
  },
  {
   "cell_type": "code",
   "execution_count": 21,
   "metadata": {},
   "outputs": [
    {
     "name": "stdout",
     "output_type": "stream",
     "text": [
      "Training time:  0.0025610923767089844  seconds\n",
      "Query time:  0.0017061233520507812  seconds\n",
      "0.9298245614035088\n"
     ]
    }
   ],
   "source": [
    "#4. SVM\n",
    "X_train, X_test, y_train, y_test = train_test_split(X, y, test_size=0.5, random_state=0)\n",
    "\n",
    "scaler = StandardScaler()\n",
    "X_train = scaler.fit_transform(X_train)\n",
    "X_test = scaler.transform(X_test)\n",
    "\n",
    "pca = PCA(n_components=3)# adjust yourself\n",
    "pca.fit(X_train)\n",
    "X_t_train = pca.transform(X_train)\n",
    "X_t_test = pca.transform(X_test)\n",
    "\n",
    "# svm_model = svm.SVC(kernel = \"linear\", gamma = .01, C = 10000)\n",
    "svm_model = svm.SVC(kernel = \"linear\")\n",
    "\n",
    "start = time.time()\n",
    "svm_model.fit(X_t_train, y_train)\n",
    "end = time.time()\n",
    "print(\"Training time: \",end - start, \" seconds\")\n",
    "\n",
    "start = time.time()\n",
    "\n",
    "svm_yhat = svm_model.predict(X_t_test)\n",
    "end = time.time()\n",
    "print(\"Query time: \",end - start, \" seconds\")\n",
    "print(accuracy_score(y_test, svm_yhat))"
   ]
  },
  {
   "cell_type": "code",
   "execution_count": 22,
   "metadata": {},
   "outputs": [
    {
     "name": "stdout",
     "output_type": "stream",
     "text": [
      "Training time:  0.0016448497772216797  seconds\n",
      "Query time:  0.022873878479003906  seconds\n",
      "0.9263157894736842\n"
     ]
    }
   ],
   "source": [
    "#5. K-Nearest Neighbors\n",
    "\n",
    "n = 5\n",
    "knn = KNeighborsClassifier(n_neighbors = n)\n",
    "start = time.time()\n",
    "knn.fit(X_train, y_train)\n",
    "end = time.time()\n",
    "print(\"Training time: \",end - start, \" seconds\")\n",
    "\n",
    "start = time.time()\n",
    "knn_yhat = knn.predict(X_test)\n",
    "end = time.time()\n",
    "print(\"Query time: \",end - start, \" seconds\")\n",
    "print(accuracy_score(y_test, knn_yhat))"
   ]
  },
  {
   "cell_type": "code",
   "execution_count": null,
   "metadata": {},
   "outputs": [],
   "source": [
    "# Accuracy score\n",
    "\n",
    "# print(cl('ACCURACY SCORE', attrs = ['bold']))\n",
    "# print(cl('--------------------------------------------------', attrs = ['bold']))\n",
    "# print(cl('Decision Tree = {}'.format(accuracy_score(y_test, tree_yhat)), attrs = ['bold']))\n",
    "# print(cl('--------------------------------------------------', attrs = ['bold']))\n",
    "# print(cl('Neural Network = {}'.format(accuracy_score(y_test, nn_yhat)), attrs = ['bold'], color = 'red'))\n",
    "# print(cl('--------------------------------------------------', attrs = ['bold']))\n",
    "# print(cl('AdaBoost = {}'.format(accuracy_score(y_test, boost_yhat)), attrs = ['bold'], color = 'red'))\n",
    "# print(cl('--------------------------------------------------', attrs = ['bold']))\n",
    "# print(cl('SVM = {}'.format(accuracy_score(y_test, svm_yhat)), attrs = ['bold'], color = 'red'))\n",
    "# print(cl('--------------------------------------------------', attrs = ['bold']))\n",
    "# print(cl('KNN = {}'.format(accuracy_score(y_test, knn_yhat)), attrs = ['bold']))\n",
    "# print(cl('--------------------------------------------------', attrs = ['bold']))"
   ]
  },
  {
   "cell_type": "markdown",
   "metadata": {},
   "source": [
    "# Confusion Matrix"
   ]
  },
  {
   "cell_type": "code",
   "execution_count": null,
   "metadata": {},
   "outputs": [],
   "source": [
    "def plot_confusion_matrix(cm, classes, title, normalize = False, cmap = plt.cm.Blues):\n",
    "    title = 'Confusion Matrix of {}'.format(title)\n",
    "    if normalize:\n",
    "        cm = cm.astype(float) / cm.sum(axis=1)[:, np.newaxis]\n",
    "\n",
    "    plt.imshow(cm, interpolation = 'nearest', cmap = cmap)\n",
    "    plt.title(title)\n",
    "    plt.colorbar()\n",
    "    tick_marks = np.arange(len(classes))\n",
    "    plt.xticks(tick_marks, classes, rotation = 45)\n",
    "    plt.yticks(tick_marks, classes)\n",
    "\n",
    "    fmt = '.2f' if normalize else 'd'\n",
    "    thresh = cm.max() / 2.\n",
    "    for i, j in itertools.product(range(cm.shape[0]), range(cm.shape[1])):\n",
    "        plt.text(j, i, format(cm[i, j], fmt),\n",
    "                 horizontalalignment = 'center',\n",
    "                 color = 'white' if cm[i, j] > thresh else 'black')\n",
    "\n",
    "    plt.tight_layout()\n",
    "    plt.ylabel('True label')\n",
    "    plt.xlabel('Predicted label')"
   ]
  },
  {
   "cell_type": "code",
   "execution_count": null,
   "metadata": {},
   "outputs": [],
   "source": [
    "tree_matrix = confusion_matrix(y, tree_model_predict, labels = [0, 1]) # Decision Tree\n",
    "# knn_matrix = confusion_matrix(y_test, knn_yhat, labels = [0, 1]) # K-Nearest Neighbors\n",
    "# lr_matrix = confusion_matrix(y_test, lr_yhat, labels = [0, 1]) # Logistic Regression\n",
    "# # svm_matrix = confusion_matrix(y_test, svm_yhat, labels = [0, 1]) # Support Vector Machine\n",
    "# rf_matrix = confusion_matrix(y_test, rf_yhat, labels = [0, 1]) # Random Forest Tree\n",
    "# xgb_matrix = confusion_matrix(y_test, xgb_yhat, labels = [0, 1]) # XGBoost"
   ]
  },
  {
   "cell_type": "code",
   "execution_count": null,
   "metadata": {},
   "outputs": [],
   "source": [
    "tree_cm_plot = plot_confusion_matrix(tree_matrix, \n",
    "                                classes = ['Benign (0)','Malignant (1)'], \n",
    "                                normalize = False, title = 'Decision Tree')\n",
    "plt.savefig('BreastCancerImages/Confusion_Matrix.png')"
   ]
  },
  {
   "cell_type": "code",
   "execution_count": null,
   "metadata": {},
   "outputs": [],
   "source": []
  },
  {
   "cell_type": "code",
   "execution_count": null,
   "metadata": {},
   "outputs": [],
   "source": [
    "title = \"Learning Curves (KNN)\"\n",
    "\n",
    "model = KNeighborsClassifier()\n",
    "plot_learning_curve(model, title, X_train, y_train, cv=5)\n",
    "plt.xlabel(\"Training Examples Used\")\n",
    "plt.ylabel(\"Accuracy\")\n",
    "plt.savefig('BreastCancerImages/LR_KNN.png')\n",
    "plt.show()"
   ]
  }
 ],
 "metadata": {
  "kernelspec": {
   "display_name": "Python 3",
   "language": "python",
   "name": "python3"
  },
  "language_info": {
   "codemirror_mode": {
    "name": "ipython",
    "version": 3
   },
   "file_extension": ".py",
   "mimetype": "text/x-python",
   "name": "python",
   "nbconvert_exporter": "python",
   "pygments_lexer": "ipython3",
   "version": "3.7.10"
  }
 },
 "nbformat": 4,
 "nbformat_minor": 4
}
